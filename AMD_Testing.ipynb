{
  "cells": [
    {
      "cell_type": "code",
      "execution_count": 227,
      "metadata": {
        "colab": {},
        "colab_type": "code",
        "id": "eSiyOMYx1JY-"
      },
      "outputs": [],
      "source": [
        "import librosa\n",
        "import numpy as np\n",
        "import pandas as pd\n",
        "import os\n",
        "#from google.colab import drive"
      ]
    },
    {
      "cell_type": "code",
      "execution_count": 228,
      "metadata": {
        "colab": {},
        "colab_type": "code",
        "id": "RafkM3Vs1Vfs"
      },
      "outputs": [],
      "source": [
        "# DEPRECATED\n",
        "#drive.mount('/content/drive', force_remount=True)\n",
        "RECORDINGS_PATH = \"/Users/ntuan1/workspaces/content/drive/MyDrive/amd-training/\"\n",
        "os.chdir(RECORDINGS_PATH)"
      ]
    },
    {
      "cell_type": "markdown",
      "metadata": {
        "colab_type": "text",
        "id": "8VG01KwHezoC"
      },
      "source": [
        "# Building Dataset"
      ]
    },
    {
      "cell_type": "code",
      "execution_count": 230,
      "metadata": {
        "colab": {},
        "colab_type": "code",
        "id": "YQTVTkJp154e"
      },
      "outputs": [],
      "source": [
        "import glob\n",
        "\n",
        "df = pd.DataFrame(columns=['file_path', 'mfccs_40', 'chroma', 'mel','contrast','tonnetz', 'duration','label'])\n",
        "df = df.fillna(0) # with 0s rather than NaNs\n",
        "\n",
        "def process(file, label):\n",
        "  try:\n",
        "    print(\"load file {}\".format(file))\n",
        "    # here kaiser_fast is a technique used for faster extraction\n",
        "    y, sr = librosa.load(file)\n",
        "    X, sample_rate = librosa.load(file, res_type='kaiser_fast') \n",
        "    X = librosa.resample(y=y, orig_sr=sr, target_sr=8000)\n",
        "      \n",
        "    duration = librosa.get_duration(y=X, sr=sample_rate)\n",
        "    stft = np.abs(librosa.stft(X))\n",
        "    mfccs_40 = np.mean(librosa.feature.mfcc(y=X, sr=sample_rate, n_mfcc=40).T,axis=0)\n",
        "    chroma = np.mean(librosa.feature.chroma_stft(S=stft, sr=sample_rate).T,axis=0)    \n",
        "    mel = np.mean(librosa.feature.melspectrogram(y=X, sr=sample_rate,n_mels=128,fmax=8000).T,axis=0)\n",
        "    contrast = np.mean(librosa.feature.spectral_contrast(S=stft, sr=sample_rate).T,axis=0)\n",
        "    tonnetz = np.mean(librosa.feature.tonnetz(y=librosa.effects.harmonic(X),\n",
        "    sr=sample_rate).T,axis=0)\n",
        "    row = pd.Series({'file_path':file,'mfccs_40':mfccs_40, 'chroma':chroma, 'mel':mel, 'contrast':contrast, 'tonnetz':tonnetz, 'duration':duration,'label':label},name=7)\n",
        "    return row\n",
        "  \n",
        "  except Exception as e:\n",
        "    print(\"Error encountered while parsing file: {} with {}\".format(file,e))\n",
        "    \n",
        "def download_files(path, label, max=150):\n",
        "  index = 0\n",
        "  for file in glob.glob(path):\n",
        "    if index <=max:\n",
        "      row = process(file, label)\n",
        "      df.loc[len(df)] = row\n",
        "      index = index +1\n",
        "      "
      ]
    },
    {
      "cell_type": "code",
      "execution_count": 231,
      "metadata": {
        "colab": {
          "base_uri": "https://localhost:8080/",
          "height": 6463
        },
        "colab_type": "code",
        "id": "gIM7jKNa1Yzz",
        "outputId": "9e592544-25f6-4de8-c4a2-08957a949cbb"
      },
      "outputs": [
        {
          "name": "stdout",
          "output_type": "stream",
          "text": [
            "load file answering-machine/beep-02.wav\n",
            "load file answering-machine/beep-01.wav\n"
          ]
        },
        {
          "name": "stderr",
          "output_type": "stream",
          "text": [
            "/Users/ntuan1/.local/share/virtualenvs/ToolSetAndTips-QIdSQBWd/lib/python3.9/site-packages/librosa/core/spectrum.py:257: UserWarning: n_fft=1024 is too large for input signal of length=609\n",
            "  warnings.warn(\n",
            "/Users/ntuan1/.local/share/virtualenvs/ToolSetAndTips-QIdSQBWd/lib/python3.9/site-packages/librosa/core/spectrum.py:257: UserWarning: n_fft=1024 is too large for input signal of length=305\n",
            "  warnings.warn(\n",
            "/Users/ntuan1/.local/share/virtualenvs/ToolSetAndTips-QIdSQBWd/lib/python3.9/site-packages/librosa/core/spectrum.py:257: UserWarning: n_fft=1024 is too large for input signal of length=153\n",
            "  warnings.warn(\n",
            "/Users/ntuan1/.local/share/virtualenvs/ToolSetAndTips-QIdSQBWd/lib/python3.9/site-packages/librosa/core/spectrum.py:257: UserWarning: n_fft=1024 is too large for input signal of length=77\n",
            "  warnings.warn(\n",
            "/Users/ntuan1/.local/share/virtualenvs/ToolSetAndTips-QIdSQBWd/lib/python3.9/site-packages/librosa/core/spectrum.py:257: UserWarning: n_fft=1024 is too large for input signal of length=39\n",
            "  warnings.warn(\n",
            "/Users/ntuan1/.local/share/virtualenvs/ToolSetAndTips-QIdSQBWd/lib/python3.9/site-packages/librosa/core/spectrum.py:257: UserWarning: n_fft=1024 is too large for input signal of length=716\n",
            "  warnings.warn(\n",
            "/Users/ntuan1/.local/share/virtualenvs/ToolSetAndTips-QIdSQBWd/lib/python3.9/site-packages/librosa/core/spectrum.py:257: UserWarning: n_fft=1024 is too large for input signal of length=358\n",
            "  warnings.warn(\n",
            "/Users/ntuan1/.local/share/virtualenvs/ToolSetAndTips-QIdSQBWd/lib/python3.9/site-packages/librosa/core/spectrum.py:257: UserWarning: n_fft=1024 is too large for input signal of length=179\n",
            "  warnings.warn(\n",
            "/Users/ntuan1/.local/share/virtualenvs/ToolSetAndTips-QIdSQBWd/lib/python3.9/site-packages/librosa/core/spectrum.py:257: UserWarning: n_fft=1024 is too large for input signal of length=90\n",
            "  warnings.warn(\n",
            "/Users/ntuan1/.local/share/virtualenvs/ToolSetAndTips-QIdSQBWd/lib/python3.9/site-packages/librosa/core/spectrum.py:257: UserWarning: n_fft=2048 is too large for input signal of length=877\n",
            "  warnings.warn(\n",
            "/Users/ntuan1/.local/share/virtualenvs/ToolSetAndTips-QIdSQBWd/lib/python3.9/site-packages/librosa/core/pitch.py:101: UserWarning: Trying to estimate tuning from empty frequency set.\n",
            "  return pitch_tuning(\n"
          ]
        },
        {
          "name": "stdout",
          "output_type": "stream",
          "text": [
            "load file answering-machine/beep-07a.wav\n",
            "Error encountered while parsing file: answering-machine/beep-07a.wav with Audio buffer is not finite everywhere\n",
            "load file answering-machine/beep-04.wav\n",
            "load file answering-machine/beep-06.wav\n"
          ]
        },
        {
          "name": "stderr",
          "output_type": "stream",
          "text": [
            "/Users/ntuan1/.local/share/virtualenvs/ToolSetAndTips-QIdSQBWd/lib/python3.9/site-packages/librosa/core/pitch.py:101: UserWarning: Trying to estimate tuning from empty frequency set.\n",
            "  return pitch_tuning(\n",
            "/Users/ntuan1/.local/share/virtualenvs/ToolSetAndTips-QIdSQBWd/lib/python3.9/site-packages/librosa/core/spectrum.py:257: UserWarning: n_fft=1024 is too large for input signal of length=597\n",
            "  warnings.warn(\n",
            "/Users/ntuan1/.local/share/virtualenvs/ToolSetAndTips-QIdSQBWd/lib/python3.9/site-packages/librosa/core/spectrum.py:257: UserWarning: n_fft=1024 is too large for input signal of length=299\n",
            "  warnings.warn(\n",
            "/Users/ntuan1/.local/share/virtualenvs/ToolSetAndTips-QIdSQBWd/lib/python3.9/site-packages/librosa/core/spectrum.py:257: UserWarning: n_fft=1024 is too large for input signal of length=150\n",
            "  warnings.warn(\n",
            "/Users/ntuan1/.local/share/virtualenvs/ToolSetAndTips-QIdSQBWd/lib/python3.9/site-packages/librosa/core/spectrum.py:257: UserWarning: n_fft=1024 is too large for input signal of length=75\n",
            "  warnings.warn(\n",
            "/Users/ntuan1/.local/share/virtualenvs/ToolSetAndTips-QIdSQBWd/lib/python3.9/site-packages/librosa/core/pitch.py:101: UserWarning: Trying to estimate tuning from empty frequency set.\n",
            "  return pitch_tuning(\n",
            "/Users/ntuan1/.local/share/virtualenvs/ToolSetAndTips-QIdSQBWd/lib/python3.9/site-packages/librosa/core/spectrum.py:257: UserWarning: n_fft=1024 is too large for input signal of length=530\n",
            "  warnings.warn(\n",
            "/Users/ntuan1/.local/share/virtualenvs/ToolSetAndTips-QIdSQBWd/lib/python3.9/site-packages/librosa/core/spectrum.py:257: UserWarning: n_fft=1024 is too large for input signal of length=265\n",
            "  warnings.warn(\n",
            "/Users/ntuan1/.local/share/virtualenvs/ToolSetAndTips-QIdSQBWd/lib/python3.9/site-packages/librosa/core/spectrum.py:257: UserWarning: n_fft=1024 is too large for input signal of length=133\n",
            "  warnings.warn(\n",
            "/Users/ntuan1/.local/share/virtualenvs/ToolSetAndTips-QIdSQBWd/lib/python3.9/site-packages/librosa/core/spectrum.py:257: UserWarning: n_fft=1024 is too large for input signal of length=67\n",
            "  warnings.warn(\n",
            "/Users/ntuan1/.local/share/virtualenvs/ToolSetAndTips-QIdSQBWd/lib/python3.9/site-packages/librosa/core/spectrum.py:257: UserWarning: n_fft=1024 is too large for input signal of length=34\n",
            "  warnings.warn(\n",
            "/Users/ntuan1/.local/share/virtualenvs/ToolSetAndTips-QIdSQBWd/lib/python3.9/site-packages/librosa/core/spectrum.py:257: UserWarning: n_fft=1024 is too large for input signal of length=513\n",
            "  warnings.warn(\n",
            "/Users/ntuan1/.local/share/virtualenvs/ToolSetAndTips-QIdSQBWd/lib/python3.9/site-packages/librosa/core/spectrum.py:257: UserWarning: n_fft=1024 is too large for input signal of length=257\n",
            "  warnings.warn(\n",
            "/Users/ntuan1/.local/share/virtualenvs/ToolSetAndTips-QIdSQBWd/lib/python3.9/site-packages/librosa/core/spectrum.py:257: UserWarning: n_fft=1024 is too large for input signal of length=129\n",
            "  warnings.warn(\n",
            "/Users/ntuan1/.local/share/virtualenvs/ToolSetAndTips-QIdSQBWd/lib/python3.9/site-packages/librosa/core/spectrum.py:257: UserWarning: n_fft=1024 is too large for input signal of length=716\n",
            "  warnings.warn(\n",
            "/Users/ntuan1/.local/share/virtualenvs/ToolSetAndTips-QIdSQBWd/lib/python3.9/site-packages/librosa/core/spectrum.py:257: UserWarning: n_fft=1024 is too large for input signal of length=358\n",
            "  warnings.warn(\n",
            "/Users/ntuan1/.local/share/virtualenvs/ToolSetAndTips-QIdSQBWd/lib/python3.9/site-packages/librosa/core/spectrum.py:257: UserWarning: n_fft=1024 is too large for input signal of length=179\n",
            "  warnings.warn(\n",
            "/Users/ntuan1/.local/share/virtualenvs/ToolSetAndTips-QIdSQBWd/lib/python3.9/site-packages/librosa/core/spectrum.py:257: UserWarning: n_fft=1024 is too large for input signal of length=90\n",
            "  warnings.warn(\n",
            "/Users/ntuan1/.local/share/virtualenvs/ToolSetAndTips-QIdSQBWd/lib/python3.9/site-packages/librosa/core/spectrum.py:257: UserWarning: n_fft=2048 is too large for input signal of length=1082\n",
            "  warnings.warn(\n",
            "/Users/ntuan1/.local/share/virtualenvs/ToolSetAndTips-QIdSQBWd/lib/python3.9/site-packages/librosa/core/pitch.py:101: UserWarning: Trying to estimate tuning from empty frequency set.\n",
            "  return pitch_tuning(\n"
          ]
        },
        {
          "name": "stdout",
          "output_type": "stream",
          "text": [
            "load file answering-machine/75ea624b-8ab9-4e17-9000-70e96166642a.wav\n",
            "load file answering-machine/beep-09.wav\n",
            "load file answering-machine/beep-08b.wav\n"
          ]
        },
        {
          "name": "stderr",
          "output_type": "stream",
          "text": [
            "/Users/ntuan1/.local/share/virtualenvs/ToolSetAndTips-QIdSQBWd/lib/python3.9/site-packages/librosa/core/spectrum.py:257: UserWarning: n_fft=1024 is too large for input signal of length=541\n",
            "  warnings.warn(\n",
            "/Users/ntuan1/.local/share/virtualenvs/ToolSetAndTips-QIdSQBWd/lib/python3.9/site-packages/librosa/core/spectrum.py:257: UserWarning: n_fft=1024 is too large for input signal of length=271\n",
            "  warnings.warn(\n",
            "/Users/ntuan1/.local/share/virtualenvs/ToolSetAndTips-QIdSQBWd/lib/python3.9/site-packages/librosa/core/spectrum.py:257: UserWarning: n_fft=1024 is too large for input signal of length=136\n",
            "  warnings.warn(\n",
            "/Users/ntuan1/.local/share/virtualenvs/ToolSetAndTips-QIdSQBWd/lib/python3.9/site-packages/librosa/core/spectrum.py:257: UserWarning: n_fft=1024 is too large for input signal of length=68\n",
            "  warnings.warn(\n",
            "/Users/ntuan1/.local/share/virtualenvs/ToolSetAndTips-QIdSQBWd/lib/python3.9/site-packages/librosa/core/spectrum.py:257: UserWarning: n_fft=1024 is too large for input signal of length=34\n",
            "  warnings.warn(\n",
            "/Users/ntuan1/.local/share/virtualenvs/ToolSetAndTips-QIdSQBWd/lib/python3.9/site-packages/librosa/core/spectrum.py:257: UserWarning: n_fft=1024 is too large for input signal of length=17\n",
            "  warnings.warn(\n"
          ]
        },
        {
          "name": "stdout",
          "output_type": "stream",
          "text": [
            "load file speech-recordings/134742511_100538577@10.9.6.4.wav\n",
            "load file speech-recordings/135004662_62896825@10.9.6.4.wav\n",
            "load file speech-recordings/134743052_116893641@10.9.6.4.wav\n",
            "load file speech-recordings/134742504_33287034@10.9.6.4.wav\n"
          ]
        },
        {
          "name": "stderr",
          "output_type": "stream",
          "text": [
            "/Users/ntuan1/.local/share/virtualenvs/ToolSetAndTips-QIdSQBWd/lib/python3.9/site-packages/librosa/core/spectrum.py:257: UserWarning: n_fft=1024 is too large for input signal of length=723\n",
            "  warnings.warn(\n"
          ]
        },
        {
          "name": "stdout",
          "output_type": "stream",
          "text": [
            "load file speech-recordings/134742502_22899981@10.9.6.4.wav\n"
          ]
        }
      ],
      "source": [
        "#compute\n",
        "import pandas as pd\n",
        "import numpy as np\n",
        "\n",
        "download_files(\"answering-machine/*.wav\", label=\"beep\")\n",
        "#download_files(\"careangel-recordings/*.wav\", label=\"beep\")\n",
        "#download_files(\"soundbible_beep_sounds/*.mp3\", label=\"beep\")\n",
        "\n",
        "download_files(\"speech-recordings/*.wav\", label=\"speech\")\n",
        "download_files(\"answeringmachinemessages/*.mp3\", label=\"speech\")\n",
        "\n",
        "df = df.drop_duplicates(subset=['file_path'], keep=False)\n",
        "df.dropna(inplace=True)\n",
        "\n"
      ]
    },
    {
      "cell_type": "code",
      "execution_count": 232,
      "metadata": {
        "colab": {
          "base_uri": "https://localhost:8080/",
          "height": 238
        },
        "colab_type": "code",
        "id": "BC0p9wGD3W6A",
        "outputId": "1a7cfb89-7672-44df-846c-11cace651f2b"
      },
      "outputs": [
        {
          "name": "stdout",
          "output_type": "stream",
          "text": [
            "<class 'pandas.core.frame.DataFrame'>\n",
            "Index: 12 entries, 0 to 12\n",
            "Data columns (total 8 columns):\n",
            " #   Column     Non-Null Count  Dtype \n",
            "---  ------     --------------  ----- \n",
            " 0   file_path  12 non-null     object\n",
            " 1   mfccs_40   12 non-null     object\n",
            " 2   chroma     12 non-null     object\n",
            " 3   mel        12 non-null     object\n",
            " 4   contrast   12 non-null     object\n",
            " 5   tonnetz    12 non-null     object\n",
            " 6   duration   12 non-null     object\n",
            " 7   label      12 non-null     object\n",
            "dtypes: object(8)\n",
            "memory usage: 864.0+ bytes\n"
          ]
        }
      ],
      "source": [
        "df.info()"
      ]
    },
    {
      "cell_type": "markdown",
      "metadata": {
        "colab_type": "text",
        "id": "XgW4Zs5nfZJz"
      },
      "source": [
        "# DF Processing"
      ]
    },
    {
      "cell_type": "code",
      "execution_count": 233,
      "metadata": {
        "colab": {
          "base_uri": "https://localhost:8080/",
          "height": 479
        },
        "colab_type": "code",
        "id": "mjlEKLOLff9Q",
        "outputId": "05154c52-d43e-4a1e-bebe-9f54f31b993d"
      },
      "outputs": [
        {
          "data": {
            "text/html": [
              "<div>\n",
              "<style scoped>\n",
              "    .dataframe tbody tr th:only-of-type {\n",
              "        vertical-align: middle;\n",
              "    }\n",
              "\n",
              "    .dataframe tbody tr th {\n",
              "        vertical-align: top;\n",
              "    }\n",
              "\n",
              "    .dataframe thead th {\n",
              "        text-align: right;\n",
              "    }\n",
              "</style>\n",
              "<table border=\"1\" class=\"dataframe\">\n",
              "  <thead>\n",
              "    <tr style=\"text-align: right;\">\n",
              "      <th></th>\n",
              "      <th>file_path</th>\n",
              "      <th>mfccs_40</th>\n",
              "      <th>chroma</th>\n",
              "      <th>mel</th>\n",
              "      <th>contrast</th>\n",
              "      <th>tonnetz</th>\n",
              "      <th>duration</th>\n",
              "      <th>label</th>\n",
              "    </tr>\n",
              "  </thead>\n",
              "  <tbody>\n",
              "    <tr>\n",
              "      <th>0</th>\n",
              "      <td>answering-machine/beep-02.wav</td>\n",
              "      <td>[-122.6334, 14.192731, -11.8081455, -41.447166...</td>\n",
              "      <td>[0.080696605, 0.11767955, 0.2604861, 1.0, 0.25...</td>\n",
              "      <td>[0.22107425, 0.22098799, 0.22153696, 0.2223530...</td>\n",
              "      <td>[6.9279717076315865, 11.813865431056964, 12.55...</td>\n",
              "      <td>[-0.3648477371360223, -0.05610153108587803, 0....</td>\n",
              "      <td>0.110385</td>\n",
              "      <td>beep</td>\n",
              "    </tr>\n",
              "    <tr>\n",
              "      <th>1</th>\n",
              "      <td>answering-machine/beep-01.wav</td>\n",
              "      <td>[-430.39633, -23.542711, -41.013035, 26.996382...</td>\n",
              "      <td>[0.05498079, 0.019998066, 0.014326, 0.02190470...</td>\n",
              "      <td>[0.0048607695, 0.0048275064, 0.0048319153, 0.0...</td>\n",
              "      <td>[12.729846517448008, 11.054651394048156, 15.90...</td>\n",
              "      <td>[-0.13845745754319952, 0.4516032859879062, -0....</td>\n",
              "      <td>0.259501</td>\n",
              "      <td>beep</td>\n",
              "    </tr>\n",
              "    <tr>\n",
              "      <th>3</th>\n",
              "      <td>answering-machine/beep-04.wav</td>\n",
              "      <td>[-469.36206, -43.72352, 14.45545, -26.333145, ...</td>\n",
              "      <td>[0.020894175, 0.023380963, 0.018574093, 0.0167...</td>\n",
              "      <td>[0.00092398206, 0.00093553925, 0.00093483133, ...</td>\n",
              "      <td>[8.185219893540957, 12.186162733656682, 13.004...</td>\n",
              "      <td>[0.039070120743638255, -0.09866945180882468, -...</td>\n",
              "      <td>0.216372</td>\n",
              "      <td>beep</td>\n",
              "    </tr>\n",
              "    <tr>\n",
              "      <th>4</th>\n",
              "      <td>answering-machine/beep-06.wav</td>\n",
              "      <td>[-332.92993, 7.174646, 60.26046, 23.1449, 11.2...</td>\n",
              "      <td>[0.08066343, 0.20696445, 1.0, 0.29257903, 0.06...</td>\n",
              "      <td>[21.683289, 1.111616, 0.4417165, 0.24003403, 0...</td>\n",
              "      <td>[22.11553125731121, 5.71138065711247, 7.787770...</td>\n",
              "      <td>[-0.025490943091271846, 0.016867631095262237, ...</td>\n",
              "      <td>0.096145</td>\n",
              "      <td>beep</td>\n",
              "    </tr>\n",
              "    <tr>\n",
              "      <th>5</th>\n",
              "      <td>answering-machine/75ea624b-8ab9-4e17-9000-70e9...</td>\n",
              "      <td>[-435.29614, 0.68523586, -34.706753, -8.96664,...</td>\n",
              "      <td>[0.021920836, 0.021555008, 0.017651584, 0.0178...</td>\n",
              "      <td>[0.065003805, 0.0062375762, 0.005364337, 0.005...</td>\n",
              "      <td>[33.15497539380285, 8.381510065971751, 14.5970...</td>\n",
              "      <td>[0.8772737665831761, 0.0002928682078172161, -0...</td>\n",
              "      <td>0.371837</td>\n",
              "      <td>beep</td>\n",
              "    </tr>\n",
              "  </tbody>\n",
              "</table>\n",
              "</div>"
            ],
            "text/plain": [
              "                                           file_path  \\\n",
              "0                      answering-machine/beep-02.wav   \n",
              "1                      answering-machine/beep-01.wav   \n",
              "3                      answering-machine/beep-04.wav   \n",
              "4                      answering-machine/beep-06.wav   \n",
              "5  answering-machine/75ea624b-8ab9-4e17-9000-70e9...   \n",
              "\n",
              "                                            mfccs_40  \\\n",
              "0  [-122.6334, 14.192731, -11.8081455, -41.447166...   \n",
              "1  [-430.39633, -23.542711, -41.013035, 26.996382...   \n",
              "3  [-469.36206, -43.72352, 14.45545, -26.333145, ...   \n",
              "4  [-332.92993, 7.174646, 60.26046, 23.1449, 11.2...   \n",
              "5  [-435.29614, 0.68523586, -34.706753, -8.96664,...   \n",
              "\n",
              "                                              chroma  \\\n",
              "0  [0.080696605, 0.11767955, 0.2604861, 1.0, 0.25...   \n",
              "1  [0.05498079, 0.019998066, 0.014326, 0.02190470...   \n",
              "3  [0.020894175, 0.023380963, 0.018574093, 0.0167...   \n",
              "4  [0.08066343, 0.20696445, 1.0, 0.29257903, 0.06...   \n",
              "5  [0.021920836, 0.021555008, 0.017651584, 0.0178...   \n",
              "\n",
              "                                                 mel  \\\n",
              "0  [0.22107425, 0.22098799, 0.22153696, 0.2223530...   \n",
              "1  [0.0048607695, 0.0048275064, 0.0048319153, 0.0...   \n",
              "3  [0.00092398206, 0.00093553925, 0.00093483133, ...   \n",
              "4  [21.683289, 1.111616, 0.4417165, 0.24003403, 0...   \n",
              "5  [0.065003805, 0.0062375762, 0.005364337, 0.005...   \n",
              "\n",
              "                                            contrast  \\\n",
              "0  [6.9279717076315865, 11.813865431056964, 12.55...   \n",
              "1  [12.729846517448008, 11.054651394048156, 15.90...   \n",
              "3  [8.185219893540957, 12.186162733656682, 13.004...   \n",
              "4  [22.11553125731121, 5.71138065711247, 7.787770...   \n",
              "5  [33.15497539380285, 8.381510065971751, 14.5970...   \n",
              "\n",
              "                                             tonnetz  duration label  \n",
              "0  [-0.3648477371360223, -0.05610153108587803, 0....  0.110385  beep  \n",
              "1  [-0.13845745754319952, 0.4516032859879062, -0....  0.259501  beep  \n",
              "3  [0.039070120743638255, -0.09866945180882468, -...  0.216372  beep  \n",
              "4  [-0.025490943091271846, 0.016867631095262237, ...  0.096145  beep  \n",
              "5  [0.8772737665831761, 0.0002928682078172161, -0...  0.371837  beep  "
            ]
          },
          "execution_count": 233,
          "metadata": {},
          "output_type": "execute_result"
        }
      ],
      "source": [
        "df.head()"
      ]
    },
    {
      "cell_type": "code",
      "execution_count": 234,
      "metadata": {
        "colab": {},
        "colab_type": "code",
        "id": "RdezvgeK7r4g"
      },
      "outputs": [],
      "source": [
        "def one_hot_encode(df):\n",
        "  #convert label seriers to ints\n",
        "  from sklearn import preprocessing\n",
        "  le = preprocessing.LabelEncoder()\n",
        "  df['label'] = le.fit_transform(df['label'].astype(str))\n",
        "\n",
        "  print(df.label.value_counts())\n",
        "  le_name_mapping = dict(zip(le.classes_, le.transform(le.classes_)))\n",
        "  print(le_name_mapping)\n",
        "  class_names = le.classes_\n",
        "  return df\n",
        "\n",
        "def remove_long_samples(df, duration=10):\n",
        "  df = df.copy()\n",
        "  df = df.drop(df[ df['duration']>duration].index)\n",
        "  df.reset_index(drop=True, inplace=True)\n",
        "  return df\n",
        "  "
      ]
    },
    {
      "cell_type": "code",
      "execution_count": 235,
      "metadata": {
        "colab": {
          "base_uri": "https://localhost:8080/",
          "height": 85
        },
        "colab_type": "code",
        "id": "X_X_njGQSmx8",
        "outputId": "33456b3e-50dd-4c66-aadb-4316a4511672"
      },
      "outputs": [
        {
          "name": "stdout",
          "output_type": "stream",
          "text": [
            "label\n",
            "0    7\n",
            "1    5\n",
            "Name: count, dtype: int64\n",
            "{'beep': 0, 'speech': 1}\n"
          ]
        }
      ],
      "source": [
        "df = one_hot_encode(df)"
      ]
    },
    {
      "cell_type": "code",
      "execution_count": 236,
      "metadata": {
        "colab": {},
        "colab_type": "code",
        "id": "M546UokywWRT"
      },
      "outputs": [],
      "source": [
        "df = remove_long_samples(df)"
      ]
    },
    {
      "cell_type": "code",
      "execution_count": 237,
      "metadata": {
        "colab": {
          "base_uri": "https://localhost:8080/",
          "height": 68
        },
        "colab_type": "code",
        "id": "X95yIMcUnDuL",
        "outputId": "ffc94c8f-f134-40f8-9271-323d9ca1fc8e"
      },
      "outputs": [
        {
          "data": {
            "text/plain": [
              "label\n",
              "0    7\n",
              "1    2\n",
              "Name: count, dtype: int64"
            ]
          },
          "execution_count": 237,
          "metadata": {},
          "output_type": "execute_result"
        }
      ],
      "source": [
        "df.label.value_counts()"
      ]
    },
    {
      "cell_type": "code",
      "execution_count": 238,
      "metadata": {
        "colab": {},
        "colab_type": "code",
        "id": "1UWVjMjAghSe"
      },
      "outputs": [],
      "source": [
        "import pickle\n",
        "import datetime\n",
        "\n",
        "from sklearn import metrics\n",
        "\n",
        "def generateFeaturesLabels(features_list, df):\n",
        "  total_features_len = np.sum([len(df[feature][0]) for feature in features_list])\n",
        "  print(\"total number of features\",total_features_len)\n",
        "  features, labels = np.empty((0,total_features_len)), np.empty(0)\n",
        "  for index, row in df.iterrows():\n",
        "    a = []\n",
        "    for feature in features_list:\n",
        "      a.append(row[feature])\n",
        "      \n",
        "    features = np.vstack([features,np.hstack(a)])\n",
        "    labels = np.append(labels, row[\"label\"])\n",
        "  return np.array(features), np.array(labels, dtype = np.int64)\n",
        "\n",
        "def score(model, X_test, y_test):\n",
        "  print(\"Score:\",model.score(X_test, y_test))\n",
        "\n",
        "  cross_val_scores = cross_val_score(model, X, y, cv=5, scoring='f1_macro')\n",
        "  print(\"cross_val_scores:\", cross_val_scores)\n",
        "  print(\"Accuracy: %0.2f (+/- %0.2f)\" % (cross_val_scores.mean(), cross_val_scores.std() * 2))\n",
        "\n",
        "  predictions = model.predict(X_test)\n",
        "\n",
        "  print(metrics.accuracy_score(y_test, predictions))\n",
        "  print(metrics.classification_report(y_test, predictions))\n",
        "  print(metrics.confusion_matrix(y_test, predictions))\n",
        "  print(\"\")\n",
        "\n",
        "\n",
        "def save_model(model):\n",
        "  filename = \"{}-{}.pkl\".format(model.__class__.__name__,datetime.datetime.now().strftime(\"%Y%m%dT%H%M\"))\n",
        "  pickle.dump(model, open(filename, 'wb'))\n",
        "\n",
        "  #rom google.colab import files\n",
        "  #files.download(filename)"
      ]
    },
    {
      "cell_type": "markdown",
      "metadata": {
        "colab_type": "text",
        "id": "v81dcHyzWdly"
      },
      "source": [
        "## Training With only feature (mfccs_40)"
      ]
    },
    {
      "cell_type": "code",
      "execution_count": 239,
      "metadata": {
        "colab": {
          "base_uri": "https://localhost:8080/",
          "height": 34
        },
        "colab_type": "code",
        "id": "4JxTZgvZOrL2",
        "outputId": "5a2955d6-c4b5-44e4-e8c7-43381b50d505"
      },
      "outputs": [
        {
          "name": "stdout",
          "output_type": "stream",
          "text": [
            "total number of features 40\n"
          ]
        }
      ],
      "source": [
        "#working model\n",
        "from sklearn.ensemble import RandomForestClassifier\n",
        "from sklearn.naive_bayes import GaussianNB\n",
        "\n",
        "from sklearn.model_selection import train_test_split\n",
        "from sklearn.model_selection import cross_val_score\n",
        "from sklearn import metrics\n",
        "\n",
        "\n",
        "features = ['mfccs_40']\n",
        "X, y = generateFeaturesLabels(features, df)"
      ]
    },
    {
      "cell_type": "markdown",
      "metadata": {
        "colab_type": "text",
        "id": "Zl4C9uMYIFvx"
      },
      "source": [
        "### Training"
      ]
    },
    {
      "cell_type": "markdown",
      "metadata": {
        "colab_type": "text",
        "id": "7RltOaSOfdXq"
      },
      "source": [
        "## Train Classifiers"
      ]
    },
    {
      "cell_type": "code",
      "execution_count": 240,
      "metadata": {
        "colab": {},
        "colab_type": "code",
        "id": "-0vhsQBTQ7zj"
      },
      "outputs": [],
      "source": [
        "# Code source: Gaël Varoquaux\n",
        "#              Andreas Müller\n",
        "# Modified for documentation by Jaques Grobler\n",
        "# License: BSD 3 clause\n",
        "\n",
        "import numpy as np\n",
        "import matplotlib.pyplot as plt\n",
        "from matplotlib.colors import ListedColormap\n",
        "from sklearn.model_selection import train_test_split\n",
        "from sklearn.preprocessing import StandardScaler\n",
        "from sklearn.datasets import make_moons, make_circles, make_classification\n",
        "from sklearn.neural_network import MLPClassifier\n",
        "from sklearn.neighbors import KNeighborsClassifier\n",
        "from sklearn.svm import SVC\n",
        "from sklearn.gaussian_process import GaussianProcessClassifier\n",
        "from sklearn.gaussian_process.kernels import RBF\n",
        "from sklearn.tree import DecisionTreeClassifier\n",
        "from sklearn.ensemble import RandomForestClassifier, AdaBoostClassifier\n",
        "from sklearn.naive_bayes import GaussianNB\n",
        "from sklearn.discriminant_analysis import QuadraticDiscriminantAnalysis\n",
        "from imblearn.over_sampling import SMOTE\n",
        "\n",
        "def pre_train_classifiers(X,y):\n",
        "  smote = SMOTE()\n",
        "  x_resampled, y_resampled = smote.fit_resample(X, y)\n",
        "  print(x_resampled,y_resampled)\n",
        "  return x_resampled, y_resampled\n",
        "\n",
        "def train_classifiers(X, y):\n",
        "  trained_classifiers = []\n",
        "  classifiers = [\n",
        "      KNeighborsClassifier(3),\n",
        "      SVC(kernel=\"linear\", C=0.025),\n",
        "      SVC(gamma=2, C=1),\n",
        "      GaussianProcessClassifier(1.0 * RBF(1.0)),\n",
        "      DecisionTreeClassifier(max_depth=5),\n",
        "      RandomForestClassifier(max_depth=5, n_estimators=10, max_features=1),\n",
        "      MLPClassifier(alpha=1),\n",
        "      AdaBoostClassifier(),\n",
        "      GaussianNB(),\n",
        "      QuadraticDiscriminantAnalysis()]\n",
        "\n",
        "  #names = [\"Nearest Neighbors\", \"Linear SVM\", \"RBF SVM\", \"Gaussian Process\",\n",
        "  #         \"Decision Tree\", \"Random Forest\", \"Neural Net\", \"AdaBoost\",\n",
        "  #         \"Naive Bayes\", \"QDA\"]\n",
        "  names = [\"Nearest Neighbors\", \"Linear SVM\", \"RBF SVM\", \"Gaussian Process\",\n",
        "           \"Decision Tree\", \"Random Forest\", \"Neural Net\", \"AdaBoost\",\n",
        "           \"Naive Bayes\", \"QDA\"]\n",
        "  i = 0\n",
        "  for classifier in classifiers:\n",
        "    try:\n",
        "      print(\"***\"+ names[i] + \"*****\")\n",
        "      x_train, x_test, y_train, y_test = train_test_split(X, y, test_size=0.33, random_state=42)\n",
        "      \n",
        "      fit_model = classifier.fit(x_train, y_train)\n",
        "      trained_classifiers.append(fit_model)\n",
        "      \n",
        "      print(\"Score:\",fit_model.score(x_test, y_test))\n",
        "\n",
        "      cross_val_scores = cross_val_score(fit_model, X, y, cv=5, scoring='f1_macro')\n",
        "      print(\"cross_val_scores:\", cross_val_scores)\n",
        "      print(\"Accuracy: %0.2f (+/- %0.2f)\" % (cross_val_scores.mean(), cross_val_scores.std() * 2))\n",
        "\n",
        "      predictions = fit_model.predict(x_test)\n",
        "\n",
        "      print(metrics.accuracy_score(y_test, predictions))\n",
        "      print(metrics.classification_report(y_test, predictions))\n",
        "      print(metrics.confusion_matrix(y_test, predictions))\n",
        "      print(\"fit_model:\", fit_model)\n",
        "      i = i + 1\n",
        "    except Exception as e:\n",
        "      print(\"Error encountered while training model: {}\".format(e))\n",
        "      \n",
        "  return trained_classifiers"
      ]
    },
    {
      "cell_type": "code",
      "execution_count": 241,
      "metadata": {
        "colab": {
          "base_uri": "https://localhost:8080/",
          "height": 3301
        },
        "colab_type": "code",
        "id": "80QUyLjghbx4",
        "outputId": "fe76d22c-a0f5-4e9b-ff63-0c914f8cdc51"
      },
      "outputs": [
        {
          "name": "stdout",
          "output_type": "stream",
          "text": [
            "***Nearest Neighbors*****\n",
            "Score: 0.6666666666666666\n",
            "cross_val_scores: [1.         0.33333333 0.33333333 0.33333333 1.        ]\n",
            "Accuracy: 0.60 (+/- 0.65)\n",
            "0.6666666666666666\n",
            "              precision    recall  f1-score   support\n",
            "\n",
            "           0       0.67      1.00      0.80         2\n",
            "           1       0.00      0.00      0.00         1\n",
            "\n",
            "    accuracy                           0.67         3\n",
            "   macro avg       0.33      0.50      0.40         3\n",
            "weighted avg       0.44      0.67      0.53         3\n",
            "\n",
            "[[2 0]\n",
            " [1 0]]\n",
            "fit_model: KNeighborsClassifier(n_neighbors=3)\n",
            "***Linear SVM*****\n",
            "Score: 1.0\n",
            "cross_val_scores: [0.33333333 1.         1.         0.33333333 1.        ]\n",
            "Accuracy: 0.73 (+/- 0.65)\n",
            "1.0\n",
            "              precision    recall  f1-score   support\n",
            "\n",
            "           0       1.00      1.00      1.00         2\n",
            "           1       1.00      1.00      1.00         1\n",
            "\n",
            "    accuracy                           1.00         3\n",
            "   macro avg       1.00      1.00      1.00         3\n",
            "weighted avg       1.00      1.00      1.00         3\n",
            "\n",
            "[[2 0]\n",
            " [0 1]]\n",
            "fit_model: SVC(C=0.025, kernel='linear')\n",
            "***RBF SVM*****\n",
            "Score: 0.6666666666666666\n",
            "cross_val_scores: [1.         1.         0.33333333 0.33333333 1.        ]\n",
            "Accuracy: 0.73 (+/- 0.65)\n",
            "0.6666666666666666\n",
            "              precision    recall  f1-score   support\n",
            "\n",
            "           0       0.67      1.00      0.80         2\n",
            "           1       0.00      0.00      0.00         1\n",
            "\n",
            "    accuracy                           0.67         3\n",
            "   macro avg       0.33      0.50      0.40         3\n",
            "weighted avg       0.44      0.67      0.53         3\n",
            "\n",
            "[[2 0]\n",
            " [1 0]]\n",
            "fit_model: SVC(C=1, gamma=2)\n",
            "***Gaussian Process*****\n",
            "Score: 0.6666666666666666\n",
            "cross_val_scores: [1.         1.         0.33333333 0.33333333 1.        ]\n",
            "Accuracy: 0.73 (+/- 0.65)\n",
            "0.6666666666666666\n",
            "              precision    recall  f1-score   support\n",
            "\n",
            "           0       0.67      1.00      0.80         2\n",
            "           1       0.00      0.00      0.00         1\n",
            "\n",
            "    accuracy                           0.67         3\n",
            "   macro avg       0.33      0.50      0.40         3\n",
            "weighted avg       0.44      0.67      0.53         3\n",
            "\n",
            "[[2 0]\n",
            " [1 0]]\n",
            "fit_model: GaussianProcessClassifier(kernel=1**2 * RBF(length_scale=1))\n",
            "***Decision Tree*****\n",
            "Score: 0.3333333333333333\n",
            "cross_val_scores: [1.         0.33333333 0.33333333 1.         0.        ]\n",
            "Accuracy: 0.53 (+/- 0.80)\n",
            "0.3333333333333333\n",
            "              precision    recall  f1-score   support\n",
            "\n",
            "           0       0.00      0.00      0.00         2\n",
            "           1       0.33      1.00      0.50         1\n",
            "\n",
            "    accuracy                           0.33         3\n",
            "   macro avg       0.17      0.50      0.25         3\n",
            "weighted avg       0.11      0.33      0.17         3\n",
            "\n",
            "[[0 2]\n",
            " [0 1]]\n",
            "fit_model: DecisionTreeClassifier(max_depth=5)\n",
            "***Random Forest*****\n",
            "Score: 0.6666666666666666\n"
          ]
        },
        {
          "name": "stderr",
          "output_type": "stream",
          "text": [
            "/Users/ntuan1/.local/share/virtualenvs/ToolSetAndTips-QIdSQBWd/lib/python3.9/site-packages/sklearn/model_selection/_split.py:737: UserWarning: The least populated class in y has only 2 members, which is less than n_splits=5.\n",
            "  warnings.warn(\n",
            "/Users/ntuan1/.local/share/virtualenvs/ToolSetAndTips-QIdSQBWd/lib/python3.9/site-packages/sklearn/metrics/_classification.py:1497: UndefinedMetricWarning: Precision is ill-defined and being set to 0.0 in labels with no predicted samples. Use `zero_division` parameter to control this behavior.\n",
            "  _warn_prf(average, modifier, f\"{metric.capitalize()} is\", len(result))\n",
            "/Users/ntuan1/.local/share/virtualenvs/ToolSetAndTips-QIdSQBWd/lib/python3.9/site-packages/sklearn/metrics/_classification.py:1497: UndefinedMetricWarning: Precision is ill-defined and being set to 0.0 in labels with no predicted samples. Use `zero_division` parameter to control this behavior.\n",
            "  _warn_prf(average, modifier, f\"{metric.capitalize()} is\", len(result))\n",
            "/Users/ntuan1/.local/share/virtualenvs/ToolSetAndTips-QIdSQBWd/lib/python3.9/site-packages/sklearn/metrics/_classification.py:1497: UndefinedMetricWarning: Precision is ill-defined and being set to 0.0 in labels with no predicted samples. Use `zero_division` parameter to control this behavior.\n",
            "  _warn_prf(average, modifier, f\"{metric.capitalize()} is\", len(result))\n",
            "/Users/ntuan1/.local/share/virtualenvs/ToolSetAndTips-QIdSQBWd/lib/python3.9/site-packages/sklearn/model_selection/_split.py:737: UserWarning: The least populated class in y has only 2 members, which is less than n_splits=5.\n",
            "  warnings.warn(\n",
            "/Users/ntuan1/.local/share/virtualenvs/ToolSetAndTips-QIdSQBWd/lib/python3.9/site-packages/sklearn/model_selection/_split.py:737: UserWarning: The least populated class in y has only 2 members, which is less than n_splits=5.\n",
            "  warnings.warn(\n",
            "/Users/ntuan1/.local/share/virtualenvs/ToolSetAndTips-QIdSQBWd/lib/python3.9/site-packages/sklearn/metrics/_classification.py:1497: UndefinedMetricWarning: Precision is ill-defined and being set to 0.0 in labels with no predicted samples. Use `zero_division` parameter to control this behavior.\n",
            "  _warn_prf(average, modifier, f\"{metric.capitalize()} is\", len(result))\n",
            "/Users/ntuan1/.local/share/virtualenvs/ToolSetAndTips-QIdSQBWd/lib/python3.9/site-packages/sklearn/metrics/_classification.py:1497: UndefinedMetricWarning: Precision is ill-defined and being set to 0.0 in labels with no predicted samples. Use `zero_division` parameter to control this behavior.\n",
            "  _warn_prf(average, modifier, f\"{metric.capitalize()} is\", len(result))\n",
            "/Users/ntuan1/.local/share/virtualenvs/ToolSetAndTips-QIdSQBWd/lib/python3.9/site-packages/sklearn/metrics/_classification.py:1497: UndefinedMetricWarning: Precision is ill-defined and being set to 0.0 in labels with no predicted samples. Use `zero_division` parameter to control this behavior.\n",
            "  _warn_prf(average, modifier, f\"{metric.capitalize()} is\", len(result))\n",
            "/Users/ntuan1/.local/share/virtualenvs/ToolSetAndTips-QIdSQBWd/lib/python3.9/site-packages/sklearn/model_selection/_split.py:737: UserWarning: The least populated class in y has only 2 members, which is less than n_splits=5.\n",
            "  warnings.warn(\n",
            "/Users/ntuan1/.local/share/virtualenvs/ToolSetAndTips-QIdSQBWd/lib/python3.9/site-packages/sklearn/metrics/_classification.py:1497: UndefinedMetricWarning: Precision is ill-defined and being set to 0.0 in labels with no predicted samples. Use `zero_division` parameter to control this behavior.\n",
            "  _warn_prf(average, modifier, f\"{metric.capitalize()} is\", len(result))\n",
            "/Users/ntuan1/.local/share/virtualenvs/ToolSetAndTips-QIdSQBWd/lib/python3.9/site-packages/sklearn/metrics/_classification.py:1497: UndefinedMetricWarning: Precision is ill-defined and being set to 0.0 in labels with no predicted samples. Use `zero_division` parameter to control this behavior.\n",
            "  _warn_prf(average, modifier, f\"{metric.capitalize()} is\", len(result))\n",
            "/Users/ntuan1/.local/share/virtualenvs/ToolSetAndTips-QIdSQBWd/lib/python3.9/site-packages/sklearn/metrics/_classification.py:1497: UndefinedMetricWarning: Precision is ill-defined and being set to 0.0 in labels with no predicted samples. Use `zero_division` parameter to control this behavior.\n",
            "  _warn_prf(average, modifier, f\"{metric.capitalize()} is\", len(result))\n",
            "/Users/ntuan1/.local/share/virtualenvs/ToolSetAndTips-QIdSQBWd/lib/python3.9/site-packages/sklearn/model_selection/_split.py:737: UserWarning: The least populated class in y has only 2 members, which is less than n_splits=5.\n",
            "  warnings.warn(\n",
            "/Users/ntuan1/.local/share/virtualenvs/ToolSetAndTips-QIdSQBWd/lib/python3.9/site-packages/sklearn/metrics/_classification.py:1497: UndefinedMetricWarning: Precision is ill-defined and being set to 0.0 in labels with no predicted samples. Use `zero_division` parameter to control this behavior.\n",
            "  _warn_prf(average, modifier, f\"{metric.capitalize()} is\", len(result))\n",
            "/Users/ntuan1/.local/share/virtualenvs/ToolSetAndTips-QIdSQBWd/lib/python3.9/site-packages/sklearn/metrics/_classification.py:1497: UndefinedMetricWarning: Precision is ill-defined and being set to 0.0 in labels with no predicted samples. Use `zero_division` parameter to control this behavior.\n",
            "  _warn_prf(average, modifier, f\"{metric.capitalize()} is\", len(result))\n",
            "/Users/ntuan1/.local/share/virtualenvs/ToolSetAndTips-QIdSQBWd/lib/python3.9/site-packages/sklearn/metrics/_classification.py:1497: UndefinedMetricWarning: Precision is ill-defined and being set to 0.0 in labels with no predicted samples. Use `zero_division` parameter to control this behavior.\n",
            "  _warn_prf(average, modifier, f\"{metric.capitalize()} is\", len(result))\n",
            "/Users/ntuan1/.local/share/virtualenvs/ToolSetAndTips-QIdSQBWd/lib/python3.9/site-packages/sklearn/model_selection/_split.py:737: UserWarning: The least populated class in y has only 2 members, which is less than n_splits=5.\n",
            "  warnings.warn(\n"
          ]
        },
        {
          "name": "stdout",
          "output_type": "stream",
          "text": [
            "cross_val_scores: [1.         1.         0.33333333 0.33333333 1.        ]\n",
            "Accuracy: 0.73 (+/- 0.65)\n",
            "0.6666666666666666\n",
            "              precision    recall  f1-score   support\n",
            "\n",
            "           0       0.67      1.00      0.80         2\n",
            "           1       0.00      0.00      0.00         1\n",
            "\n",
            "    accuracy                           0.67         3\n",
            "   macro avg       0.33      0.50      0.40         3\n",
            "weighted avg       0.44      0.67      0.53         3\n",
            "\n",
            "[[2 0]\n",
            " [1 0]]\n",
            "fit_model: RandomForestClassifier(max_depth=5, max_features=1, n_estimators=10)\n",
            "***Neural Net*****\n",
            "Score: 0.3333333333333333\n",
            "cross_val_scores: [0.         0.33333333 0.33333333 1.         1.        ]\n",
            "Accuracy: 0.53 (+/- 0.80)\n",
            "0.3333333333333333\n",
            "              precision    recall  f1-score   support\n",
            "\n",
            "           0       0.50      0.50      0.50         2\n",
            "           1       0.00      0.00      0.00         1\n",
            "\n",
            "    accuracy                           0.33         3\n",
            "   macro avg       0.25      0.25      0.25         3\n",
            "weighted avg       0.33      0.33      0.33         3\n",
            "\n",
            "[[1 1]\n",
            " [1 0]]\n",
            "fit_model: MLPClassifier(alpha=1)\n",
            "***AdaBoost*****\n",
            "Score: 0.6666666666666666\n"
          ]
        },
        {
          "name": "stderr",
          "output_type": "stream",
          "text": [
            "/Users/ntuan1/.local/share/virtualenvs/ToolSetAndTips-QIdSQBWd/lib/python3.9/site-packages/sklearn/metrics/_classification.py:1497: UndefinedMetricWarning: Precision is ill-defined and being set to 0.0 in labels with no predicted samples. Use `zero_division` parameter to control this behavior.\n",
            "  _warn_prf(average, modifier, f\"{metric.capitalize()} is\", len(result))\n",
            "/Users/ntuan1/.local/share/virtualenvs/ToolSetAndTips-QIdSQBWd/lib/python3.9/site-packages/sklearn/metrics/_classification.py:1497: UndefinedMetricWarning: Precision is ill-defined and being set to 0.0 in labels with no predicted samples. Use `zero_division` parameter to control this behavior.\n",
            "  _warn_prf(average, modifier, f\"{metric.capitalize()} is\", len(result))\n",
            "/Users/ntuan1/.local/share/virtualenvs/ToolSetAndTips-QIdSQBWd/lib/python3.9/site-packages/sklearn/metrics/_classification.py:1497: UndefinedMetricWarning: Precision is ill-defined and being set to 0.0 in labels with no predicted samples. Use `zero_division` parameter to control this behavior.\n",
            "  _warn_prf(average, modifier, f\"{metric.capitalize()} is\", len(result))\n",
            "/Users/ntuan1/.local/share/virtualenvs/ToolSetAndTips-QIdSQBWd/lib/python3.9/site-packages/sklearn/neural_network/_multilayer_perceptron.py:691: ConvergenceWarning: Stochastic Optimizer: Maximum iterations (200) reached and the optimization hasn't converged yet.\n",
            "  warnings.warn(\n",
            "/Users/ntuan1/.local/share/virtualenvs/ToolSetAndTips-QIdSQBWd/lib/python3.9/site-packages/sklearn/model_selection/_split.py:737: UserWarning: The least populated class in y has only 2 members, which is less than n_splits=5.\n",
            "  warnings.warn(\n",
            "/Users/ntuan1/.local/share/virtualenvs/ToolSetAndTips-QIdSQBWd/lib/python3.9/site-packages/sklearn/neural_network/_multilayer_perceptron.py:691: ConvergenceWarning: Stochastic Optimizer: Maximum iterations (200) reached and the optimization hasn't converged yet.\n",
            "  warnings.warn(\n",
            "/Users/ntuan1/.local/share/virtualenvs/ToolSetAndTips-QIdSQBWd/lib/python3.9/site-packages/sklearn/neural_network/_multilayer_perceptron.py:691: ConvergenceWarning: Stochastic Optimizer: Maximum iterations (200) reached and the optimization hasn't converged yet.\n",
            "  warnings.warn(\n",
            "/Users/ntuan1/.local/share/virtualenvs/ToolSetAndTips-QIdSQBWd/lib/python3.9/site-packages/sklearn/neural_network/_multilayer_perceptron.py:691: ConvergenceWarning: Stochastic Optimizer: Maximum iterations (200) reached and the optimization hasn't converged yet.\n",
            "  warnings.warn(\n",
            "/Users/ntuan1/.local/share/virtualenvs/ToolSetAndTips-QIdSQBWd/lib/python3.9/site-packages/sklearn/neural_network/_multilayer_perceptron.py:691: ConvergenceWarning: Stochastic Optimizer: Maximum iterations (200) reached and the optimization hasn't converged yet.\n",
            "  warnings.warn(\n",
            "/Users/ntuan1/.local/share/virtualenvs/ToolSetAndTips-QIdSQBWd/lib/python3.9/site-packages/sklearn/neural_network/_multilayer_perceptron.py:691: ConvergenceWarning: Stochastic Optimizer: Maximum iterations (200) reached and the optimization hasn't converged yet.\n",
            "  warnings.warn(\n",
            "/Users/ntuan1/.local/share/virtualenvs/ToolSetAndTips-QIdSQBWd/lib/python3.9/site-packages/sklearn/ensemble/_weight_boosting.py:519: FutureWarning: The SAMME.R algorithm (the default) is deprecated and will be removed in 1.6. Use the SAMME algorithm to circumvent this warning.\n",
            "  warnings.warn(\n",
            "/Users/ntuan1/.local/share/virtualenvs/ToolSetAndTips-QIdSQBWd/lib/python3.9/site-packages/sklearn/model_selection/_split.py:737: UserWarning: The least populated class in y has only 2 members, which is less than n_splits=5.\n",
            "  warnings.warn(\n",
            "/Users/ntuan1/.local/share/virtualenvs/ToolSetAndTips-QIdSQBWd/lib/python3.9/site-packages/sklearn/ensemble/_weight_boosting.py:519: FutureWarning: The SAMME.R algorithm (the default) is deprecated and will be removed in 1.6. Use the SAMME algorithm to circumvent this warning.\n",
            "  warnings.warn(\n",
            "/Users/ntuan1/.local/share/virtualenvs/ToolSetAndTips-QIdSQBWd/lib/python3.9/site-packages/sklearn/ensemble/_weight_boosting.py:519: FutureWarning: The SAMME.R algorithm (the default) is deprecated and will be removed in 1.6. Use the SAMME algorithm to circumvent this warning.\n",
            "  warnings.warn(\n",
            "/Users/ntuan1/.local/share/virtualenvs/ToolSetAndTips-QIdSQBWd/lib/python3.9/site-packages/sklearn/ensemble/_weight_boosting.py:519: FutureWarning: The SAMME.R algorithm (the default) is deprecated and will be removed in 1.6. Use the SAMME algorithm to circumvent this warning.\n",
            "  warnings.warn(\n",
            "/Users/ntuan1/.local/share/virtualenvs/ToolSetAndTips-QIdSQBWd/lib/python3.9/site-packages/sklearn/ensemble/_weight_boosting.py:519: FutureWarning: The SAMME.R algorithm (the default) is deprecated and will be removed in 1.6. Use the SAMME algorithm to circumvent this warning.\n",
            "  warnings.warn(\n",
            "/Users/ntuan1/.local/share/virtualenvs/ToolSetAndTips-QIdSQBWd/lib/python3.9/site-packages/sklearn/ensemble/_weight_boosting.py:519: FutureWarning: The SAMME.R algorithm (the default) is deprecated and will be removed in 1.6. Use the SAMME algorithm to circumvent this warning.\n",
            "  warnings.warn(\n",
            "/Users/ntuan1/.local/share/virtualenvs/ToolSetAndTips-QIdSQBWd/lib/python3.9/site-packages/sklearn/metrics/_classification.py:1497: UndefinedMetricWarning: Precision is ill-defined and being set to 0.0 in labels with no predicted samples. Use `zero_division` parameter to control this behavior.\n",
            "  _warn_prf(average, modifier, f\"{metric.capitalize()} is\", len(result))\n",
            "/Users/ntuan1/.local/share/virtualenvs/ToolSetAndTips-QIdSQBWd/lib/python3.9/site-packages/sklearn/metrics/_classification.py:1497: UndefinedMetricWarning: Precision is ill-defined and being set to 0.0 in labels with no predicted samples. Use `zero_division` parameter to control this behavior.\n",
            "  _warn_prf(average, modifier, f\"{metric.capitalize()} is\", len(result))\n",
            "/Users/ntuan1/.local/share/virtualenvs/ToolSetAndTips-QIdSQBWd/lib/python3.9/site-packages/sklearn/metrics/_classification.py:1497: UndefinedMetricWarning: Precision is ill-defined and being set to 0.0 in labels with no predicted samples. Use `zero_division` parameter to control this behavior.\n",
            "  _warn_prf(average, modifier, f\"{metric.capitalize()} is\", len(result))\n"
          ]
        },
        {
          "name": "stdout",
          "output_type": "stream",
          "text": [
            "cross_val_scores: [1.         0.33333333 0.33333333 1.         0.        ]\n",
            "Accuracy: 0.53 (+/- 0.80)\n",
            "0.6666666666666666\n",
            "              precision    recall  f1-score   support\n",
            "\n",
            "           0       0.67      1.00      0.80         2\n",
            "           1       0.00      0.00      0.00         1\n",
            "\n",
            "    accuracy                           0.67         3\n",
            "   macro avg       0.33      0.50      0.40         3\n",
            "weighted avg       0.44      0.67      0.53         3\n",
            "\n",
            "[[2 0]\n",
            " [1 0]]\n",
            "fit_model: AdaBoostClassifier()\n",
            "***Naive Bayes*****\n",
            "Score: 0.6666666666666666\n",
            "cross_val_scores: [1.         1.         0.33333333 0.33333333 1.        ]\n",
            "Accuracy: 0.73 (+/- 0.65)\n",
            "0.6666666666666666\n",
            "              precision    recall  f1-score   support\n",
            "\n",
            "           0       0.67      1.00      0.80         2\n",
            "           1       0.00      0.00      0.00         1\n",
            "\n",
            "    accuracy                           0.67         3\n",
            "   macro avg       0.33      0.50      0.40         3\n",
            "weighted avg       0.44      0.67      0.53         3\n",
            "\n",
            "[[2 0]\n",
            " [1 0]]\n",
            "fit_model: GaussianNB()\n",
            "***QDA*****\n",
            "Error encountered while training model: y has only 1 sample in class 1, covariance is ill defined.\n"
          ]
        },
        {
          "name": "stderr",
          "output_type": "stream",
          "text": [
            "/Users/ntuan1/.local/share/virtualenvs/ToolSetAndTips-QIdSQBWd/lib/python3.9/site-packages/sklearn/model_selection/_split.py:737: UserWarning: The least populated class in y has only 2 members, which is less than n_splits=5.\n",
            "  warnings.warn(\n",
            "/Users/ntuan1/.local/share/virtualenvs/ToolSetAndTips-QIdSQBWd/lib/python3.9/site-packages/sklearn/metrics/_classification.py:1497: UndefinedMetricWarning: Precision is ill-defined and being set to 0.0 in labels with no predicted samples. Use `zero_division` parameter to control this behavior.\n",
            "  _warn_prf(average, modifier, f\"{metric.capitalize()} is\", len(result))\n",
            "/Users/ntuan1/.local/share/virtualenvs/ToolSetAndTips-QIdSQBWd/lib/python3.9/site-packages/sklearn/metrics/_classification.py:1497: UndefinedMetricWarning: Precision is ill-defined and being set to 0.0 in labels with no predicted samples. Use `zero_division` parameter to control this behavior.\n",
            "  _warn_prf(average, modifier, f\"{metric.capitalize()} is\", len(result))\n",
            "/Users/ntuan1/.local/share/virtualenvs/ToolSetAndTips-QIdSQBWd/lib/python3.9/site-packages/sklearn/metrics/_classification.py:1497: UndefinedMetricWarning: Precision is ill-defined and being set to 0.0 in labels with no predicted samples. Use `zero_division` parameter to control this behavior.\n",
            "  _warn_prf(average, modifier, f\"{metric.capitalize()} is\", len(result))\n",
            "/Users/ntuan1/.local/share/virtualenvs/ToolSetAndTips-QIdSQBWd/lib/python3.9/site-packages/sklearn/discriminant_analysis.py:935: UserWarning: Variables are collinear\n",
            "  warnings.warn(\"Variables are collinear\")\n"
          ]
        }
      ],
      "source": [
        "X = list(df.mfccs_40.values)\n",
        "y = df.label.values\n",
        "classifiers = train_classifiers(X, y)"
      ]
    },
    {
      "cell_type": "code",
      "execution_count": 242,
      "metadata": {
        "colab": {},
        "colab_type": "code",
        "id": "iVtpPCBR9F8e"
      },
      "outputs": [],
      "source": [
        "import glob\n",
        "correct = []\n",
        "incorrect = []\n",
        "\n",
        "def predict_from_file_mfccs(wav_file, model, show_results=False):  \n",
        "  X, sample_rate = librosa.load(wav_file, res_type='kaiser_fast')\n",
        "  mfccs = np.mean(librosa.feature.mfcc(y=X, sr=sample_rate, n_mfcc=40).T,axis=0)\n",
        "  X = [mfccs]\n",
        "  \n",
        "  file_cat = wav_file.split(\"/\")[-2]\n",
        "  prediction = model.predict(X)\n",
        "  \n",
        "  if show_results:\n",
        "    print(file_cat)\n",
        "    print(prediction)\n",
        "    print(\"\\n\")\n",
        "  \n",
        "  is_correct = False\n",
        "  if (file_cat == \"beeps\" and prediction == 0) or (file_cat == \"non-beeps\" and prediction == 1):\n",
        "    is_correct = True\n",
        "\n",
        "  return is_correct\n",
        "\n",
        "def run_predictions_mfccs(classifiers):\n",
        "  for classifier in classifiers:\n",
        "    num_correct = 0\n",
        "\n",
        "    print(\"prediction using classifier\", classifier)\n",
        "    path = glob.glob(\"/Users/ntuan1/workspaces/content/drive/MyDrive/amd-training/*/*.wav\")\n",
        "    for file in path:\n",
        "      print(file)\n",
        "      is_correct = predict_from_file_mfccs(file, classifier)\n",
        "      num_correct += is_correct\n",
        "\n",
        "    print(\"{} correct out of {}\".format(num_correct,len(path)) )\n"
      ]
    },
    {
      "cell_type": "markdown",
      "metadata": {
        "colab_type": "text",
        "id": "8q-OYiUUILid"
      },
      "source": [
        "### Predictions"
      ]
    },
    {
      "cell_type": "code",
      "execution_count": 243,
      "metadata": {
        "colab": {
          "base_uri": "https://localhost:8080/",
          "height": 884
        },
        "colab_type": "code",
        "id": "i3D8i8dEzspk",
        "outputId": "8c1d07e4-fe23-4bf4-de43-7a0c3f5d3d38"
      },
      "outputs": [
        {
          "name": "stdout",
          "output_type": "stream",
          "text": [
            "prediction using classifier KNeighborsClassifier(n_neighbors=3)\n",
            "/Users/ntuan1/workspaces/content/drive/MyDrive/amd-training/speech/5c082690-02f2-11e9-aa3d-ad1a095d8d72.wav\n",
            "/Users/ntuan1/workspaces/content/drive/MyDrive/amd-training/speech/134218211_100662903@10.9.6.4.wav\n",
            "/Users/ntuan1/workspaces/content/drive/MyDrive/amd-training/speech/134742501_125768259@10.9.6.4.wav\n",
            "/Users/ntuan1/workspaces/content/drive/MyDrive/amd-training/speech/134219003_125742931@10.9.6.4.wav\n",
            "/Users/ntuan1/workspaces/content/drive/MyDrive/amd-training/speech/134218701_124515005@10.9.6.4.wav\n",
            "/Users/ntuan1/workspaces/content/drive/MyDrive/amd-training/speech/26b25bb7-6825-43e7-b8bd-03a3884ed694.wav\n",
            "/Users/ntuan1/workspaces/content/drive/MyDrive/amd-training/speech/134480846_117308603@10.9.6.4.wav\n",
            "/Users/ntuan1/workspaces/content/drive/MyDrive/amd-training/speech-recordings/134742511_100538577@10.9.6.4.wav\n",
            "/Users/ntuan1/workspaces/content/drive/MyDrive/amd-training/speech-recordings/135004662_62896825@10.9.6.4.wav\n",
            "/Users/ntuan1/workspaces/content/drive/MyDrive/amd-training/speech-recordings/134743052_116893641@10.9.6.4.wav\n",
            "/Users/ntuan1/workspaces/content/drive/MyDrive/amd-training/speech-recordings/134742504_33287034@10.9.6.4.wav\n",
            "/Users/ntuan1/workspaces/content/drive/MyDrive/amd-training/speech-recordings/134742502_22899981@10.9.6.4.wav\n",
            "/Users/ntuan1/workspaces/content/drive/MyDrive/amd-training/answering-machine/beep-02.wav\n",
            "/Users/ntuan1/workspaces/content/drive/MyDrive/amd-training/answering-machine/beep-01.wav\n",
            "/Users/ntuan1/workspaces/content/drive/MyDrive/amd-training/answering-machine/beep-07a.wav\n",
            "/Users/ntuan1/workspaces/content/drive/MyDrive/amd-training/answering-machine/beep-04.wav\n",
            "/Users/ntuan1/workspaces/content/drive/MyDrive/amd-training/answering-machine/beep-06.wav\n",
            "/Users/ntuan1/workspaces/content/drive/MyDrive/amd-training/answering-machine/75ea624b-8ab9-4e17-9000-70e96166642a.wav\n",
            "/Users/ntuan1/workspaces/content/drive/MyDrive/amd-training/answering-machine/beep-09.wav\n",
            "/Users/ntuan1/workspaces/content/drive/MyDrive/amd-training/answering-machine/beep-08b.wav\n",
            "0 correct out of 20\n",
            "prediction using classifier SVC(C=0.025, kernel='linear')\n",
            "/Users/ntuan1/workspaces/content/drive/MyDrive/amd-training/speech/5c082690-02f2-11e9-aa3d-ad1a095d8d72.wav\n",
            "/Users/ntuan1/workspaces/content/drive/MyDrive/amd-training/speech/134218211_100662903@10.9.6.4.wav\n",
            "/Users/ntuan1/workspaces/content/drive/MyDrive/amd-training/speech/134742501_125768259@10.9.6.4.wav\n",
            "/Users/ntuan1/workspaces/content/drive/MyDrive/amd-training/speech/134219003_125742931@10.9.6.4.wav\n",
            "/Users/ntuan1/workspaces/content/drive/MyDrive/amd-training/speech/134218701_124515005@10.9.6.4.wav\n",
            "/Users/ntuan1/workspaces/content/drive/MyDrive/amd-training/speech/26b25bb7-6825-43e7-b8bd-03a3884ed694.wav\n",
            "/Users/ntuan1/workspaces/content/drive/MyDrive/amd-training/speech/134480846_117308603@10.9.6.4.wav\n",
            "/Users/ntuan1/workspaces/content/drive/MyDrive/amd-training/speech-recordings/134742511_100538577@10.9.6.4.wav\n",
            "/Users/ntuan1/workspaces/content/drive/MyDrive/amd-training/speech-recordings/135004662_62896825@10.9.6.4.wav\n",
            "/Users/ntuan1/workspaces/content/drive/MyDrive/amd-training/speech-recordings/134743052_116893641@10.9.6.4.wav\n",
            "/Users/ntuan1/workspaces/content/drive/MyDrive/amd-training/speech-recordings/134742504_33287034@10.9.6.4.wav\n",
            "/Users/ntuan1/workspaces/content/drive/MyDrive/amd-training/speech-recordings/134742502_22899981@10.9.6.4.wav\n",
            "/Users/ntuan1/workspaces/content/drive/MyDrive/amd-training/answering-machine/beep-02.wav\n",
            "/Users/ntuan1/workspaces/content/drive/MyDrive/amd-training/answering-machine/beep-01.wav\n",
            "/Users/ntuan1/workspaces/content/drive/MyDrive/amd-training/answering-machine/beep-07a.wav\n",
            "/Users/ntuan1/workspaces/content/drive/MyDrive/amd-training/answering-machine/beep-04.wav\n",
            "/Users/ntuan1/workspaces/content/drive/MyDrive/amd-training/answering-machine/beep-06.wav\n",
            "/Users/ntuan1/workspaces/content/drive/MyDrive/amd-training/answering-machine/75ea624b-8ab9-4e17-9000-70e96166642a.wav\n",
            "/Users/ntuan1/workspaces/content/drive/MyDrive/amd-training/answering-machine/beep-09.wav\n",
            "/Users/ntuan1/workspaces/content/drive/MyDrive/amd-training/answering-machine/beep-08b.wav\n",
            "0 correct out of 20\n",
            "prediction using classifier SVC(C=1, gamma=2)\n",
            "/Users/ntuan1/workspaces/content/drive/MyDrive/amd-training/speech/5c082690-02f2-11e9-aa3d-ad1a095d8d72.wav\n",
            "/Users/ntuan1/workspaces/content/drive/MyDrive/amd-training/speech/134218211_100662903@10.9.6.4.wav\n",
            "/Users/ntuan1/workspaces/content/drive/MyDrive/amd-training/speech/134742501_125768259@10.9.6.4.wav\n",
            "/Users/ntuan1/workspaces/content/drive/MyDrive/amd-training/speech/134219003_125742931@10.9.6.4.wav\n",
            "/Users/ntuan1/workspaces/content/drive/MyDrive/amd-training/speech/134218701_124515005@10.9.6.4.wav\n",
            "/Users/ntuan1/workspaces/content/drive/MyDrive/amd-training/speech/26b25bb7-6825-43e7-b8bd-03a3884ed694.wav\n",
            "/Users/ntuan1/workspaces/content/drive/MyDrive/amd-training/speech/134480846_117308603@10.9.6.4.wav\n",
            "/Users/ntuan1/workspaces/content/drive/MyDrive/amd-training/speech-recordings/134742511_100538577@10.9.6.4.wav\n",
            "/Users/ntuan1/workspaces/content/drive/MyDrive/amd-training/speech-recordings/135004662_62896825@10.9.6.4.wav\n",
            "/Users/ntuan1/workspaces/content/drive/MyDrive/amd-training/speech-recordings/134743052_116893641@10.9.6.4.wav\n",
            "/Users/ntuan1/workspaces/content/drive/MyDrive/amd-training/speech-recordings/134742504_33287034@10.9.6.4.wav\n",
            "/Users/ntuan1/workspaces/content/drive/MyDrive/amd-training/speech-recordings/134742502_22899981@10.9.6.4.wav\n",
            "/Users/ntuan1/workspaces/content/drive/MyDrive/amd-training/answering-machine/beep-02.wav\n",
            "/Users/ntuan1/workspaces/content/drive/MyDrive/amd-training/answering-machine/beep-01.wav\n",
            "/Users/ntuan1/workspaces/content/drive/MyDrive/amd-training/answering-machine/beep-07a.wav\n",
            "/Users/ntuan1/workspaces/content/drive/MyDrive/amd-training/answering-machine/beep-04.wav\n",
            "/Users/ntuan1/workspaces/content/drive/MyDrive/amd-training/answering-machine/beep-06.wav\n",
            "/Users/ntuan1/workspaces/content/drive/MyDrive/amd-training/answering-machine/75ea624b-8ab9-4e17-9000-70e96166642a.wav\n",
            "/Users/ntuan1/workspaces/content/drive/MyDrive/amd-training/answering-machine/beep-09.wav\n",
            "/Users/ntuan1/workspaces/content/drive/MyDrive/amd-training/answering-machine/beep-08b.wav\n",
            "0 correct out of 20\n",
            "prediction using classifier GaussianProcessClassifier(kernel=1**2 * RBF(length_scale=1))\n",
            "/Users/ntuan1/workspaces/content/drive/MyDrive/amd-training/speech/5c082690-02f2-11e9-aa3d-ad1a095d8d72.wav\n",
            "/Users/ntuan1/workspaces/content/drive/MyDrive/amd-training/speech/134218211_100662903@10.9.6.4.wav\n",
            "/Users/ntuan1/workspaces/content/drive/MyDrive/amd-training/speech/134742501_125768259@10.9.6.4.wav\n",
            "/Users/ntuan1/workspaces/content/drive/MyDrive/amd-training/speech/134219003_125742931@10.9.6.4.wav\n",
            "/Users/ntuan1/workspaces/content/drive/MyDrive/amd-training/speech/134218701_124515005@10.9.6.4.wav\n",
            "/Users/ntuan1/workspaces/content/drive/MyDrive/amd-training/speech/26b25bb7-6825-43e7-b8bd-03a3884ed694.wav\n",
            "/Users/ntuan1/workspaces/content/drive/MyDrive/amd-training/speech/134480846_117308603@10.9.6.4.wav\n",
            "/Users/ntuan1/workspaces/content/drive/MyDrive/amd-training/speech-recordings/134742511_100538577@10.9.6.4.wav\n",
            "/Users/ntuan1/workspaces/content/drive/MyDrive/amd-training/speech-recordings/135004662_62896825@10.9.6.4.wav\n",
            "/Users/ntuan1/workspaces/content/drive/MyDrive/amd-training/speech-recordings/134743052_116893641@10.9.6.4.wav\n",
            "/Users/ntuan1/workspaces/content/drive/MyDrive/amd-training/speech-recordings/134742504_33287034@10.9.6.4.wav\n",
            "/Users/ntuan1/workspaces/content/drive/MyDrive/amd-training/speech-recordings/134742502_22899981@10.9.6.4.wav\n",
            "/Users/ntuan1/workspaces/content/drive/MyDrive/amd-training/answering-machine/beep-02.wav\n",
            "/Users/ntuan1/workspaces/content/drive/MyDrive/amd-training/answering-machine/beep-01.wav\n",
            "/Users/ntuan1/workspaces/content/drive/MyDrive/amd-training/answering-machine/beep-07a.wav\n",
            "/Users/ntuan1/workspaces/content/drive/MyDrive/amd-training/answering-machine/beep-04.wav\n",
            "/Users/ntuan1/workspaces/content/drive/MyDrive/amd-training/answering-machine/beep-06.wav\n",
            "/Users/ntuan1/workspaces/content/drive/MyDrive/amd-training/answering-machine/75ea624b-8ab9-4e17-9000-70e96166642a.wav\n",
            "/Users/ntuan1/workspaces/content/drive/MyDrive/amd-training/answering-machine/beep-09.wav\n",
            "/Users/ntuan1/workspaces/content/drive/MyDrive/amd-training/answering-machine/beep-08b.wav\n",
            "0 correct out of 20\n",
            "prediction using classifier DecisionTreeClassifier(max_depth=5)\n",
            "/Users/ntuan1/workspaces/content/drive/MyDrive/amd-training/speech/5c082690-02f2-11e9-aa3d-ad1a095d8d72.wav\n",
            "/Users/ntuan1/workspaces/content/drive/MyDrive/amd-training/speech/134218211_100662903@10.9.6.4.wav\n",
            "/Users/ntuan1/workspaces/content/drive/MyDrive/amd-training/speech/134742501_125768259@10.9.6.4.wav\n",
            "/Users/ntuan1/workspaces/content/drive/MyDrive/amd-training/speech/134219003_125742931@10.9.6.4.wav\n",
            "/Users/ntuan1/workspaces/content/drive/MyDrive/amd-training/speech/134218701_124515005@10.9.6.4.wav\n",
            "/Users/ntuan1/workspaces/content/drive/MyDrive/amd-training/speech/26b25bb7-6825-43e7-b8bd-03a3884ed694.wav\n",
            "/Users/ntuan1/workspaces/content/drive/MyDrive/amd-training/speech/134480846_117308603@10.9.6.4.wav\n",
            "/Users/ntuan1/workspaces/content/drive/MyDrive/amd-training/speech-recordings/134742511_100538577@10.9.6.4.wav\n",
            "/Users/ntuan1/workspaces/content/drive/MyDrive/amd-training/speech-recordings/135004662_62896825@10.9.6.4.wav\n",
            "/Users/ntuan1/workspaces/content/drive/MyDrive/amd-training/speech-recordings/134743052_116893641@10.9.6.4.wav\n",
            "/Users/ntuan1/workspaces/content/drive/MyDrive/amd-training/speech-recordings/134742504_33287034@10.9.6.4.wav\n",
            "/Users/ntuan1/workspaces/content/drive/MyDrive/amd-training/speech-recordings/134742502_22899981@10.9.6.4.wav\n",
            "/Users/ntuan1/workspaces/content/drive/MyDrive/amd-training/answering-machine/beep-02.wav\n",
            "/Users/ntuan1/workspaces/content/drive/MyDrive/amd-training/answering-machine/beep-01.wav\n",
            "/Users/ntuan1/workspaces/content/drive/MyDrive/amd-training/answering-machine/beep-07a.wav\n",
            "/Users/ntuan1/workspaces/content/drive/MyDrive/amd-training/answering-machine/beep-04.wav\n",
            "/Users/ntuan1/workspaces/content/drive/MyDrive/amd-training/answering-machine/beep-06.wav\n",
            "/Users/ntuan1/workspaces/content/drive/MyDrive/amd-training/answering-machine/75ea624b-8ab9-4e17-9000-70e96166642a.wav\n",
            "/Users/ntuan1/workspaces/content/drive/MyDrive/amd-training/answering-machine/beep-09.wav\n",
            "/Users/ntuan1/workspaces/content/drive/MyDrive/amd-training/answering-machine/beep-08b.wav\n",
            "0 correct out of 20\n",
            "prediction using classifier RandomForestClassifier(max_depth=5, max_features=1, n_estimators=10)\n",
            "/Users/ntuan1/workspaces/content/drive/MyDrive/amd-training/speech/5c082690-02f2-11e9-aa3d-ad1a095d8d72.wav\n",
            "/Users/ntuan1/workspaces/content/drive/MyDrive/amd-training/speech/134218211_100662903@10.9.6.4.wav\n",
            "/Users/ntuan1/workspaces/content/drive/MyDrive/amd-training/speech/134742501_125768259@10.9.6.4.wav\n",
            "/Users/ntuan1/workspaces/content/drive/MyDrive/amd-training/speech/134219003_125742931@10.9.6.4.wav\n",
            "/Users/ntuan1/workspaces/content/drive/MyDrive/amd-training/speech/134218701_124515005@10.9.6.4.wav\n",
            "/Users/ntuan1/workspaces/content/drive/MyDrive/amd-training/speech/26b25bb7-6825-43e7-b8bd-03a3884ed694.wav\n",
            "/Users/ntuan1/workspaces/content/drive/MyDrive/amd-training/speech/134480846_117308603@10.9.6.4.wav\n",
            "/Users/ntuan1/workspaces/content/drive/MyDrive/amd-training/speech-recordings/134742511_100538577@10.9.6.4.wav\n",
            "/Users/ntuan1/workspaces/content/drive/MyDrive/amd-training/speech-recordings/135004662_62896825@10.9.6.4.wav\n",
            "/Users/ntuan1/workspaces/content/drive/MyDrive/amd-training/speech-recordings/134743052_116893641@10.9.6.4.wav\n",
            "/Users/ntuan1/workspaces/content/drive/MyDrive/amd-training/speech-recordings/134742504_33287034@10.9.6.4.wav\n",
            "/Users/ntuan1/workspaces/content/drive/MyDrive/amd-training/speech-recordings/134742502_22899981@10.9.6.4.wav\n",
            "/Users/ntuan1/workspaces/content/drive/MyDrive/amd-training/answering-machine/beep-02.wav\n",
            "/Users/ntuan1/workspaces/content/drive/MyDrive/amd-training/answering-machine/beep-01.wav\n",
            "/Users/ntuan1/workspaces/content/drive/MyDrive/amd-training/answering-machine/beep-07a.wav\n",
            "/Users/ntuan1/workspaces/content/drive/MyDrive/amd-training/answering-machine/beep-04.wav\n",
            "/Users/ntuan1/workspaces/content/drive/MyDrive/amd-training/answering-machine/beep-06.wav\n",
            "/Users/ntuan1/workspaces/content/drive/MyDrive/amd-training/answering-machine/75ea624b-8ab9-4e17-9000-70e96166642a.wav\n",
            "/Users/ntuan1/workspaces/content/drive/MyDrive/amd-training/answering-machine/beep-09.wav\n",
            "/Users/ntuan1/workspaces/content/drive/MyDrive/amd-training/answering-machine/beep-08b.wav\n",
            "0 correct out of 20\n",
            "prediction using classifier MLPClassifier(alpha=1)\n",
            "/Users/ntuan1/workspaces/content/drive/MyDrive/amd-training/speech/5c082690-02f2-11e9-aa3d-ad1a095d8d72.wav\n",
            "/Users/ntuan1/workspaces/content/drive/MyDrive/amd-training/speech/134218211_100662903@10.9.6.4.wav\n",
            "/Users/ntuan1/workspaces/content/drive/MyDrive/amd-training/speech/134742501_125768259@10.9.6.4.wav\n",
            "/Users/ntuan1/workspaces/content/drive/MyDrive/amd-training/speech/134219003_125742931@10.9.6.4.wav\n",
            "/Users/ntuan1/workspaces/content/drive/MyDrive/amd-training/speech/134218701_124515005@10.9.6.4.wav\n",
            "/Users/ntuan1/workspaces/content/drive/MyDrive/amd-training/speech/26b25bb7-6825-43e7-b8bd-03a3884ed694.wav\n",
            "/Users/ntuan1/workspaces/content/drive/MyDrive/amd-training/speech/134480846_117308603@10.9.6.4.wav\n",
            "/Users/ntuan1/workspaces/content/drive/MyDrive/amd-training/speech-recordings/134742511_100538577@10.9.6.4.wav\n",
            "/Users/ntuan1/workspaces/content/drive/MyDrive/amd-training/speech-recordings/135004662_62896825@10.9.6.4.wav\n",
            "/Users/ntuan1/workspaces/content/drive/MyDrive/amd-training/speech-recordings/134743052_116893641@10.9.6.4.wav\n",
            "/Users/ntuan1/workspaces/content/drive/MyDrive/amd-training/speech-recordings/134742504_33287034@10.9.6.4.wav\n",
            "/Users/ntuan1/workspaces/content/drive/MyDrive/amd-training/speech-recordings/134742502_22899981@10.9.6.4.wav\n",
            "/Users/ntuan1/workspaces/content/drive/MyDrive/amd-training/answering-machine/beep-02.wav\n",
            "/Users/ntuan1/workspaces/content/drive/MyDrive/amd-training/answering-machine/beep-01.wav\n",
            "/Users/ntuan1/workspaces/content/drive/MyDrive/amd-training/answering-machine/beep-07a.wav\n",
            "/Users/ntuan1/workspaces/content/drive/MyDrive/amd-training/answering-machine/beep-04.wav\n",
            "/Users/ntuan1/workspaces/content/drive/MyDrive/amd-training/answering-machine/beep-06.wav\n",
            "/Users/ntuan1/workspaces/content/drive/MyDrive/amd-training/answering-machine/75ea624b-8ab9-4e17-9000-70e96166642a.wav\n",
            "/Users/ntuan1/workspaces/content/drive/MyDrive/amd-training/answering-machine/beep-09.wav\n",
            "/Users/ntuan1/workspaces/content/drive/MyDrive/amd-training/answering-machine/beep-08b.wav\n",
            "0 correct out of 20\n",
            "prediction using classifier AdaBoostClassifier()\n",
            "/Users/ntuan1/workspaces/content/drive/MyDrive/amd-training/speech/5c082690-02f2-11e9-aa3d-ad1a095d8d72.wav\n",
            "/Users/ntuan1/workspaces/content/drive/MyDrive/amd-training/speech/134218211_100662903@10.9.6.4.wav\n",
            "/Users/ntuan1/workspaces/content/drive/MyDrive/amd-training/speech/134742501_125768259@10.9.6.4.wav\n",
            "/Users/ntuan1/workspaces/content/drive/MyDrive/amd-training/speech/134219003_125742931@10.9.6.4.wav\n",
            "/Users/ntuan1/workspaces/content/drive/MyDrive/amd-training/speech/134218701_124515005@10.9.6.4.wav\n",
            "/Users/ntuan1/workspaces/content/drive/MyDrive/amd-training/speech/26b25bb7-6825-43e7-b8bd-03a3884ed694.wav\n",
            "/Users/ntuan1/workspaces/content/drive/MyDrive/amd-training/speech/134480846_117308603@10.9.6.4.wav\n",
            "/Users/ntuan1/workspaces/content/drive/MyDrive/amd-training/speech-recordings/134742511_100538577@10.9.6.4.wav\n",
            "/Users/ntuan1/workspaces/content/drive/MyDrive/amd-training/speech-recordings/135004662_62896825@10.9.6.4.wav\n",
            "/Users/ntuan1/workspaces/content/drive/MyDrive/amd-training/speech-recordings/134743052_116893641@10.9.6.4.wav\n",
            "/Users/ntuan1/workspaces/content/drive/MyDrive/amd-training/speech-recordings/134742504_33287034@10.9.6.4.wav\n",
            "/Users/ntuan1/workspaces/content/drive/MyDrive/amd-training/speech-recordings/134742502_22899981@10.9.6.4.wav\n",
            "/Users/ntuan1/workspaces/content/drive/MyDrive/amd-training/answering-machine/beep-02.wav\n",
            "/Users/ntuan1/workspaces/content/drive/MyDrive/amd-training/answering-machine/beep-01.wav\n",
            "/Users/ntuan1/workspaces/content/drive/MyDrive/amd-training/answering-machine/beep-07a.wav\n",
            "/Users/ntuan1/workspaces/content/drive/MyDrive/amd-training/answering-machine/beep-04.wav\n",
            "/Users/ntuan1/workspaces/content/drive/MyDrive/amd-training/answering-machine/beep-06.wav\n",
            "/Users/ntuan1/workspaces/content/drive/MyDrive/amd-training/answering-machine/75ea624b-8ab9-4e17-9000-70e96166642a.wav\n",
            "/Users/ntuan1/workspaces/content/drive/MyDrive/amd-training/answering-machine/beep-09.wav\n",
            "/Users/ntuan1/workspaces/content/drive/MyDrive/amd-training/answering-machine/beep-08b.wav\n",
            "0 correct out of 20\n",
            "prediction using classifier GaussianNB()\n",
            "/Users/ntuan1/workspaces/content/drive/MyDrive/amd-training/speech/5c082690-02f2-11e9-aa3d-ad1a095d8d72.wav\n",
            "/Users/ntuan1/workspaces/content/drive/MyDrive/amd-training/speech/134218211_100662903@10.9.6.4.wav\n",
            "/Users/ntuan1/workspaces/content/drive/MyDrive/amd-training/speech/134742501_125768259@10.9.6.4.wav\n",
            "/Users/ntuan1/workspaces/content/drive/MyDrive/amd-training/speech/134219003_125742931@10.9.6.4.wav\n",
            "/Users/ntuan1/workspaces/content/drive/MyDrive/amd-training/speech/134218701_124515005@10.9.6.4.wav\n",
            "/Users/ntuan1/workspaces/content/drive/MyDrive/amd-training/speech/26b25bb7-6825-43e7-b8bd-03a3884ed694.wav\n",
            "/Users/ntuan1/workspaces/content/drive/MyDrive/amd-training/speech/134480846_117308603@10.9.6.4.wav\n",
            "/Users/ntuan1/workspaces/content/drive/MyDrive/amd-training/speech-recordings/134742511_100538577@10.9.6.4.wav\n",
            "/Users/ntuan1/workspaces/content/drive/MyDrive/amd-training/speech-recordings/135004662_62896825@10.9.6.4.wav\n",
            "/Users/ntuan1/workspaces/content/drive/MyDrive/amd-training/speech-recordings/134743052_116893641@10.9.6.4.wav\n",
            "/Users/ntuan1/workspaces/content/drive/MyDrive/amd-training/speech-recordings/134742504_33287034@10.9.6.4.wav\n",
            "/Users/ntuan1/workspaces/content/drive/MyDrive/amd-training/speech-recordings/134742502_22899981@10.9.6.4.wav\n",
            "/Users/ntuan1/workspaces/content/drive/MyDrive/amd-training/answering-machine/beep-02.wav\n",
            "/Users/ntuan1/workspaces/content/drive/MyDrive/amd-training/answering-machine/beep-01.wav\n",
            "/Users/ntuan1/workspaces/content/drive/MyDrive/amd-training/answering-machine/beep-07a.wav\n",
            "/Users/ntuan1/workspaces/content/drive/MyDrive/amd-training/answering-machine/beep-04.wav\n",
            "/Users/ntuan1/workspaces/content/drive/MyDrive/amd-training/answering-machine/beep-06.wav\n",
            "/Users/ntuan1/workspaces/content/drive/MyDrive/amd-training/answering-machine/75ea624b-8ab9-4e17-9000-70e96166642a.wav\n",
            "/Users/ntuan1/workspaces/content/drive/MyDrive/amd-training/answering-machine/beep-09.wav\n",
            "/Users/ntuan1/workspaces/content/drive/MyDrive/amd-training/answering-machine/beep-08b.wav\n",
            "0 correct out of 20\n"
          ]
        }
      ],
      "source": [
        "run_predictions_mfccs(classifiers)"
      ]
    },
    {
      "cell_type": "markdown",
      "metadata": {
        "colab_type": "text",
        "id": "69OA5Nw4K6lQ"
      },
      "source": [
        "### Test Audio Samples"
      ]
    },
    {
      "cell_type": "code",
      "execution_count": 194,
      "metadata": {
        "colab": {
          "base_uri": "https://localhost:8080/",
          "height": 102
        },
        "colab_type": "code",
        "id": "faOMOgijAq-o",
        "outputId": "f004be5c-7b2a-40a8-be33-66d14494ccf9"
      },
      "outputs": [
        {
          "name": "stdout",
          "output_type": "stream",
          "text": [
            "/Users/ntuan1/workspaces/content/drive/MyDrive/amd-training/speech/134218211_100662903@10.9.6.4.wav\n",
            "[0]\n",
            "\n",
            "\n",
            "None\n"
          ]
        }
      ],
      "source": [
        "import IPython.display as ipd\n",
        "#beep\n",
        "file = \"/Users/ntuan1/workspaces/content/drive/MyDrive/amd-training/speech/134218211_100662903@10.9.6.4.wav\"\n",
        "ipd.Audio(file)\n",
        "print(predict_from_file(file))"
      ]
    },
    {
      "cell_type": "code",
      "execution_count": 195,
      "metadata": {
        "colab": {
          "base_uri": "https://localhost:8080/",
          "height": 102
        },
        "colab_type": "code",
        "id": "AguF4ECjAv12",
        "outputId": "16e63840-f732-4221-d3dc-86f2e979f5a9"
      },
      "outputs": [
        {
          "name": "stdout",
          "output_type": "stream",
          "text": [
            "/Users/ntuan1/workspaces/content/drive/MyDrive/amd-training/answering-machine/75ea624b-8ab9-4e17-9000-70e96166642a.wav\n",
            "[0]\n",
            "\n",
            "\n",
            "None\n"
          ]
        },
        {
          "name": "stderr",
          "output_type": "stream",
          "text": [
            "/Users/ntuan1/.local/share/virtualenvs/ToolSetAndTips-QIdSQBWd/lib/python3.9/site-packages/librosa/core/spectrum.py:257: UserWarning: n_fft=1024 is too large for input signal of length=707\n",
            "  warnings.warn(\n",
            "/Users/ntuan1/.local/share/virtualenvs/ToolSetAndTips-QIdSQBWd/lib/python3.9/site-packages/librosa/core/spectrum.py:257: UserWarning: n_fft=1024 is too large for input signal of length=354\n",
            "  warnings.warn(\n"
          ]
        }
      ],
      "source": [
        "import IPython.display as ipd\n",
        "#beep\n",
        "file = \"/Users/ntuan1/workspaces/content/drive/MyDrive/amd-training/answering-machine/75ea624b-8ab9-4e17-9000-70e96166642a.wav\"\n",
        "ipd.Audio(file)\n",
        "print(predict_from_file(file))"
      ]
    },
    {
      "cell_type": "markdown",
      "metadata": {
        "colab_type": "text",
        "id": "HOkwqW6hW2Sz"
      },
      "source": [
        "## Training With mutliple features"
      ]
    },
    {
      "cell_type": "code",
      "execution_count": 161,
      "metadata": {
        "colab": {
          "base_uri": "https://localhost:8080/",
          "height": 34
        },
        "colab_type": "code",
        "id": "a-jqmwFhYJBk",
        "outputId": "e8b21345-b6be-4375-e442-73194951b86b"
      },
      "outputs": [
        {
          "name": "stdout",
          "output_type": "stream",
          "text": [
            "total number of features 193\n"
          ]
        }
      ],
      "source": [
        "features = ['mfccs_40','chroma', 'mel', 'contrast','tonnetz']\n",
        "X, y = generateFeaturesLabels(features, df)"
      ]
    },
    {
      "cell_type": "code",
      "execution_count": 160,
      "metadata": {
        "colab": {
          "base_uri": "https://localhost:8080/",
          "height": 3335
        },
        "colab_type": "code",
        "id": "IBjTnXeFZRLU",
        "outputId": "c400271d-f988-4bd3-8bf1-de2c41172bf4"
      },
      "outputs": [
        {
          "name": "stdout",
          "output_type": "stream",
          "text": [
            "***Nearest Neighbors*****\n",
            "Score: 1.0\n",
            "cross_val_scores: [1.         1.         1.         0.33333333 1.        ]\n",
            "Accuracy: 0.87 (+/- 0.53)\n",
            "1.0\n",
            "              precision    recall  f1-score   support\n",
            "\n",
            "           0       1.00      1.00      1.00         3\n",
            "\n",
            "    accuracy                           1.00         3\n",
            "   macro avg       1.00      1.00      1.00         3\n",
            "weighted avg       1.00      1.00      1.00         3\n",
            "\n",
            "[[3]]\n",
            "fit_model: KNeighborsClassifier(n_neighbors=3)\n",
            "***Linear SVM*****\n",
            "Score: 0.3333333333333333\n",
            "cross_val_scores: [0.33333333 0.33333333 1.                nan 1.        ]\n",
            "Accuracy: nan (+/- nan)\n",
            "0.3333333333333333\n",
            "              precision    recall  f1-score   support\n",
            "\n",
            "           0       1.00      0.33      0.50         3\n",
            "           1       0.00      0.00      0.00         0\n",
            "\n",
            "    accuracy                           0.33         3\n",
            "   macro avg       0.50      0.17      0.25         3\n",
            "weighted avg       1.00      0.33      0.50         3\n",
            "\n",
            "[[1 2]\n",
            " [0 0]]\n",
            "fit_model: SVC(C=0.025, kernel='linear')\n",
            "Error encountered while training model: list index out of range\n",
            "Error encountered while training model: list index out of range\n",
            "Error encountered while training model: list index out of range\n",
            "Error encountered while training model: list index out of range\n",
            "Error encountered while training model: list index out of range\n",
            "Error encountered while training model: list index out of range\n",
            "Error encountered while training model: list index out of range\n",
            "Error encountered while training model: list index out of range\n"
          ]
        },
        {
          "name": "stderr",
          "output_type": "stream",
          "text": [
            "/Users/ntuan1/.local/share/virtualenvs/ToolSetAndTips-QIdSQBWd/lib/python3.9/site-packages/sklearn/model_selection/_split.py:737: UserWarning: The least populated class in y has only 1 members, which is less than n_splits=5.\n",
            "  warnings.warn(\n",
            "/Users/ntuan1/.local/share/virtualenvs/ToolSetAndTips-QIdSQBWd/lib/python3.9/site-packages/sklearn/metrics/_classification.py:386: UserWarning: A single label was found in 'y_true' and 'y_pred'. For the confusion matrix to have the correct shape, use the 'labels' parameter to pass all known labels.\n",
            "  warnings.warn(\n",
            "/Users/ntuan1/.local/share/virtualenvs/ToolSetAndTips-QIdSQBWd/lib/python3.9/site-packages/sklearn/model_selection/_split.py:737: UserWarning: The least populated class in y has only 1 members, which is less than n_splits=5.\n",
            "  warnings.warn(\n",
            "/Users/ntuan1/.local/share/virtualenvs/ToolSetAndTips-QIdSQBWd/lib/python3.9/site-packages/sklearn/model_selection/_validation.py:542: FitFailedWarning: \n",
            "1 fits failed out of a total of 5.\n",
            "The score on these train-test partitions for these parameters will be set to nan.\n",
            "If these failures are not expected, you can try to debug them by setting error_score='raise'.\n",
            "\n",
            "Below are more details about the failures:\n",
            "--------------------------------------------------------------------------------\n",
            "1 fits failed with the following error:\n",
            "Traceback (most recent call last):\n",
            "  File \"/Users/ntuan1/.local/share/virtualenvs/ToolSetAndTips-QIdSQBWd/lib/python3.9/site-packages/sklearn/model_selection/_validation.py\", line 890, in _fit_and_score\n",
            "    estimator.fit(X_train, y_train, **fit_params)\n",
            "  File \"/Users/ntuan1/.local/share/virtualenvs/ToolSetAndTips-QIdSQBWd/lib/python3.9/site-packages/sklearn/base.py\", line 1351, in wrapper\n",
            "    return fit_method(estimator, *args, **kwargs)\n",
            "  File \"/Users/ntuan1/.local/share/virtualenvs/ToolSetAndTips-QIdSQBWd/lib/python3.9/site-packages/sklearn/svm/_base.py\", line 199, in fit\n",
            "    y = self._validate_targets(y)\n",
            "  File \"/Users/ntuan1/.local/share/virtualenvs/ToolSetAndTips-QIdSQBWd/lib/python3.9/site-packages/sklearn/svm/_base.py\", line 743, in _validate_targets\n",
            "    raise ValueError(\n",
            "ValueError: The number of classes has to be greater than one; got 1 class\n",
            "\n",
            "  warnings.warn(some_fits_failed_message, FitFailedWarning)\n",
            "/Users/ntuan1/.local/share/virtualenvs/ToolSetAndTips-QIdSQBWd/lib/python3.9/site-packages/sklearn/metrics/_classification.py:1497: UndefinedMetricWarning: Recall is ill-defined and being set to 0.0 in labels with no true samples. Use `zero_division` parameter to control this behavior.\n",
            "  _warn_prf(average, modifier, f\"{metric.capitalize()} is\", len(result))\n",
            "/Users/ntuan1/.local/share/virtualenvs/ToolSetAndTips-QIdSQBWd/lib/python3.9/site-packages/sklearn/metrics/_classification.py:1497: UndefinedMetricWarning: Recall is ill-defined and being set to 0.0 in labels with no true samples. Use `zero_division` parameter to control this behavior.\n",
            "  _warn_prf(average, modifier, f\"{metric.capitalize()} is\", len(result))\n",
            "/Users/ntuan1/.local/share/virtualenvs/ToolSetAndTips-QIdSQBWd/lib/python3.9/site-packages/sklearn/metrics/_classification.py:1497: UndefinedMetricWarning: Recall is ill-defined and being set to 0.0 in labels with no true samples. Use `zero_division` parameter to control this behavior.\n",
            "  _warn_prf(average, modifier, f\"{metric.capitalize()} is\", len(result))\n"
          ]
        }
      ],
      "source": [
        "multi_feature_classifiers = train_classifiers(X, y)"
      ]
    },
    {
      "cell_type": "code",
      "execution_count": 162,
      "metadata": {
        "colab": {},
        "colab_type": "code",
        "id": "-xzkFVInW5iJ"
      },
      "outputs": [],
      "source": [
        "def predict_multiple_features_from_file(file, model,show_results=False):\n",
        "  X, sample_rate = librosa.load(file, res_type='kaiser_fast') \n",
        "  X = librosa.resample(X, sample_rate, 16000)\n",
        "\n",
        "  duration = librosa.get_duration(X, sample_rate)\n",
        "  stft = np.abs(librosa.stft(X))\n",
        "  mfccs_40 = np.mean(librosa.feature.mfcc(y=X, sr=sample_rate, n_mfcc=40).T,axis=0)\n",
        "  chroma = np.mean(librosa.feature.chroma_stft(S=stft, sr=sample_rate).T,axis=0)    \n",
        "  mel = np.mean(librosa.feature.melspectrogram(y=X, sr=sample_rate,n_mels=128,fmax=8000).T,axis=0)\n",
        "  contrast = np.mean(librosa.feature.spectral_contrast(S=stft, sr=sample_rate).T,axis=0)\n",
        "  tonnetz = np.mean(librosa.feature.tonnetz(y=librosa.effects.harmonic(X),\n",
        "  sr=sample_rate).T,axis=0)\n",
        "\n",
        "  a = [mfccs_40, chroma, mel, contrast, tonnetz]\n",
        "  \n",
        "  \n",
        "  total_len = 0\n",
        "  for f in a:\n",
        "    total_len += f.shape[0]\n",
        " \n",
        "  features = np.vstack([np.empty((0,total_len)),np.hstack(a)])\n",
        "  \n",
        "  file_cat = file.split(\"/\")[-2]\n",
        "  prediction = model.predict(features)\n",
        "  \n",
        "  if show_results:\n",
        "    print(file)\n",
        "    print(prediction)\n",
        "    \n",
        "  is_correct = False\n",
        "  if (file_cat == \"beeps\" and prediction == 0) or (file_cat == \"non-beeps\" and prediction == 1):\n",
        "    is_correct = True\n",
        "\n",
        "  return is_correct\n",
        "  \n",
        "  \n",
        "def run_multi_features_predictions(classifiers):\n",
        "  for classifier in classifiers:\n",
        "    num_correct = 0\n",
        "\n",
        "    print(\"predction using classifier\", classifier)\n",
        "    path = glob.glob(\"drive/My Drive/amd-training/sample-files/*/*\")\n",
        "    for file in path:\n",
        "      is_correct = predict_multiple_features_from_file(file, classifier)\n",
        "      num_correct += is_correct\n",
        "\n",
        "    print(\"{} correct out of {}\".format(num_correct,len(path)) )\n"
      ]
    },
    {
      "cell_type": "code",
      "execution_count": 163,
      "metadata": {
        "colab": {
          "base_uri": "https://localhost:8080/",
          "height": 884
        },
        "colab_type": "code",
        "id": "SJpcEInUbHYb",
        "outputId": "6dd91b92-850b-498f-e1f3-652ced6aadf6"
      },
      "outputs": [
        {
          "name": "stdout",
          "output_type": "stream",
          "text": [
            "predction using classifier KNeighborsClassifier(n_neighbors=3)\n",
            "0 correct out of 0\n",
            "predction using classifier SVC(C=0.025, kernel='linear')\n",
            "0 correct out of 0\n"
          ]
        }
      ],
      "source": [
        "run_multi_features_predictions(multi_feature_classifiers)"
      ]
    },
    {
      "cell_type": "markdown",
      "metadata": {
        "colab_type": "text",
        "id": "GxelWq612yjX"
      },
      "source": [
        "### Refactor"
      ]
    },
    {
      "cell_type": "markdown",
      "metadata": {
        "colab_type": "text",
        "id": "bVByar1KTnFS"
      },
      "source": [
        "Here, we're trying to see if combining the features into one array\n",
        "TLDR, no difference"
      ]
    },
    {
      "cell_type": "code",
      "execution_count": 164,
      "metadata": {
        "colab": {},
        "colab_type": "code",
        "id": "KzqOt3ID6W0G"
      },
      "outputs": [],
      "source": [
        "def padarray(A, size):\n",
        "    t = size - len(A)\n",
        "    return np.pad(A, pad_width=(0, t), mode='constant')"
      ]
    },
    {
      "cell_type": "code",
      "execution_count": 165,
      "metadata": {
        "colab": {},
        "colab_type": "code",
        "id": "vHQxydj9H4GI"
      },
      "outputs": [],
      "source": [
        "l = 0\n",
        "features_list = ['mfccs_40', 'chroma', 'mel', 'contrast', 'tonnetz']\n",
        "for feature in features_list:\n",
        "  row = df[feature][0]\n",
        "  z = len(row)\n",
        "  if z > l:\n",
        "    l = z    \n",
        "l\n",
        "\n",
        "b = []\n",
        "c = []\n",
        "for index, row in df.iterrows():\n",
        "  a = []\n",
        "  for feature in features_list:\n",
        "    f = row[feature]\n",
        "    if len(f) < l:\n",
        "      a.append(padarray(f, l))\n",
        "    else:\n",
        "      a.append(row[feature])\n",
        "  c.append(row['label'])\n",
        "    \n",
        "  b.append(a)"
      ]
    },
    {
      "cell_type": "code",
      "execution_count": 166,
      "metadata": {
        "colab": {
          "base_uri": "https://localhost:8080/",
          "height": 34
        },
        "colab_type": "code",
        "id": "G8UX0Ujk4G_t",
        "outputId": "c316d37c-71de-48bf-8718-702df7fef460"
      },
      "outputs": [
        {
          "data": {
            "text/plain": [
              "((9, 5, 128), (9,))"
            ]
          },
          "execution_count": 166,
          "metadata": {},
          "output_type": "execute_result"
        }
      ],
      "source": [
        "b = np.array(b)\n",
        "c = np.array(c)\n",
        "b.shape,c.shape"
      ]
    },
    {
      "cell_type": "code",
      "execution_count": 167,
      "metadata": {
        "colab": {
          "base_uri": "https://localhost:8080/",
          "height": 34
        },
        "colab_type": "code",
        "id": "Q1PBjDdsKb5F",
        "outputId": "5826aae8-def2-4262-bb69-f4072cb2f821"
      },
      "outputs": [
        {
          "name": "stdout",
          "output_type": "stream",
          "text": [
            "(9, 640)\n"
          ]
        }
      ],
      "source": [
        "# X = np.array([[ x1, x2 ]])\n",
        "# print(X.shape)\n",
        "\n",
        "nsamples, nx, ny = b.shape\n",
        "B = b.reshape((nsamples,nx*ny))\n",
        "print(B.shape)\n",
        "\n",
        "X_train, X_test, y_train, y_test = train_test_split(B, c, test_size=0.33, random_state=42)\n",
        "\n",
        "# clf1 = RandomForestClassifier(n_estimators=100, max_depth=2,random_state=0)\n",
        "# clf1.fit(B, c)\n",
        "# X,y"
      ]
    },
    {
      "cell_type": "code",
      "execution_count": 168,
      "metadata": {
        "colab": {
          "base_uri": "https://localhost:8080/",
          "height": 34
        },
        "colab_type": "code",
        "id": "hCPtQ6tsNiG9",
        "outputId": "cfac0a35-864d-4f90-90f8-2a0260c3b10e"
      },
      "outputs": [
        {
          "name": "stdout",
          "output_type": "stream",
          "text": [
            "Score: 1.0\n"
          ]
        }
      ],
      "source": [
        "clf = RandomForestClassifier(n_estimators=100, max_depth=2,random_state=42)\n",
        "fit_model = clf.fit(X_train, y_train)\n",
        "print(\"Score:\",fit_model.score(X_test, y_test))"
      ]
    },
    {
      "cell_type": "code",
      "execution_count": 169,
      "metadata": {
        "colab": {
          "base_uri": "https://localhost:8080/",
          "height": 34
        },
        "colab_type": "code",
        "id": "SWSZAIrROxwt",
        "outputId": "da3b2748-8b7c-4f76-9e0e-5f232e0a6da1"
      },
      "outputs": [
        {
          "data": {
            "text/plain": [
              "((6, 640), (3, 640), (6,), (3,))"
            ]
          },
          "execution_count": 169,
          "metadata": {},
          "output_type": "execute_result"
        }
      ],
      "source": [
        "X_train.shape, X_test.shape, y_train.shape, y_test.shape"
      ]
    },
    {
      "cell_type": "code",
      "execution_count": 170,
      "metadata": {
        "colab": {},
        "colab_type": "code",
        "id": "Whch9dufPCUN"
      },
      "outputs": [],
      "source": [
        "def predict_from_file(file):\n",
        "  X, sample_rate = librosa.load(file, res_type='kaiser_fast') \n",
        "  duration = librosa.get_duration(y=X, sr=sample_rate)\n",
        "  stft = np.abs(librosa.stft(X))\n",
        "  mfccs_40 = np.mean(librosa.feature.mfcc(y=X, sr=sample_rate, n_mfcc=40).T,axis=0)\n",
        "  chroma = np.mean(librosa.feature.chroma_stft(S=stft, sr=sample_rate).T,axis=0)    \n",
        "  mel = np.mean(librosa.feature.melspectrogram(y=X, sr=sample_rate,n_mels=128,fmax=8000).T,axis=0)\n",
        "  contrast = np.mean(librosa.feature.spectral_contrast(S=stft, sr=sample_rate).T,axis=0)\n",
        "  tonnetz = np.mean(librosa.feature.tonnetz(y=librosa.effects.harmonic(X),\n",
        "  sr=sample_rate).T,axis=0)\n",
        "\n",
        "  l1 = 0\n",
        "  features = [mfccs_40, chroma, mel, contrast, tonnetz]\n",
        "  for feature in features:\n",
        "    z1 = len(feature)\n",
        "    if z1 > l1:\n",
        "      l1 = z1    \n",
        "  l1\n",
        "\n",
        "  b1 = []\n",
        "  c1 = []\n",
        "\n",
        "  a1 = []\n",
        "  for f in features:\n",
        "    if len(f) < l:\n",
        "      a1.append(padarray(f, l))\n",
        "    else:\n",
        "      a1.append(f)\n",
        "\n",
        "  b1.append(a1)\n",
        "  \n",
        "  b1 = np.array(b1)\n",
        "  b1.shape\n",
        "\n",
        "  nsamples, nx, ny = b1.shape\n",
        "  b1 = b1.reshape((nsamples,nx*ny))\n",
        "#   print(b1.shape)\n",
        "  \n",
        "  prediction = clf.predict(b1)\n",
        "  \n",
        "  file_cat = file.split(\"/\")[-2]\n",
        "  \n",
        "  print(file)\n",
        "  print(prediction)\n",
        "  if (file_cat == \"beeps\" and prediction == 0) or (file_cat == \"non-beeps\" and prediction == 1):\n",
        "    correct.append(file)\n",
        "  else:\n",
        "    incorrect.append(file)\n",
        "  print(\"\\n\")\n"
      ]
    },
    {
      "cell_type": "code",
      "execution_count": 171,
      "metadata": {
        "colab": {
          "base_uri": "https://localhost:8080/",
          "height": 2655
        },
        "colab_type": "code",
        "id": "-l-ua2apPekl",
        "outputId": "5e9c16b7-44dd-44ac-8860-5a1453b33029"
      },
      "outputs": [
        {
          "ename": "FileNotFoundError",
          "evalue": "[Errno 2] No such file or directory: '/content/RandomForestClassifier-20190502T1202.pkl'",
          "output_type": "error",
          "traceback": [
            "\u001b[0;31m---------------------------------------------------------------------------\u001b[0m",
            "\u001b[0;31mFileNotFoundError\u001b[0m                         Traceback (most recent call last)",
            "Cell \u001b[0;32mIn[171], line 5\u001b[0m\n\u001b[1;32m      3\u001b[0m correct \u001b[38;5;241m=\u001b[39m []\n\u001b[1;32m      4\u001b[0m incorrect \u001b[38;5;241m=\u001b[39m []\n\u001b[0;32m----> 5\u001b[0m loaded_model \u001b[38;5;241m=\u001b[39m pickle\u001b[38;5;241m.\u001b[39mload(\u001b[38;5;28;43mopen\u001b[39;49m\u001b[43m(\u001b[49m\u001b[38;5;124;43m\"\u001b[39;49m\u001b[38;5;124;43m/content/RandomForestClassifier-20190502T1202.pkl\u001b[39;49m\u001b[38;5;124;43m\"\u001b[39;49m\u001b[43m,\u001b[49m\u001b[43m \u001b[49m\u001b[38;5;124;43m\"\u001b[39;49m\u001b[38;5;124;43mrb\u001b[39;49m\u001b[38;5;124;43m\"\u001b[39;49m\u001b[43m)\u001b[49m)\n\u001b[1;32m      7\u001b[0m \u001b[38;5;28;01mfor\u001b[39;00m file \u001b[38;5;129;01min\u001b[39;00m glob\u001b[38;5;241m.\u001b[39mglob(\u001b[38;5;124m\"\u001b[39m\u001b[38;5;124mdrive/My Drive/amd-training/sample-files/*/*\u001b[39m\u001b[38;5;124m\"\u001b[39m):\n\u001b[1;32m      8\u001b[0m   predict_from_file(file)\n",
            "File \u001b[0;32m~/.local/share/virtualenvs/ToolSetAndTips-QIdSQBWd/lib/python3.9/site-packages/IPython/core/interactiveshell.py:310\u001b[0m, in \u001b[0;36m_modified_open\u001b[0;34m(file, *args, **kwargs)\u001b[0m\n\u001b[1;32m    303\u001b[0m \u001b[38;5;28;01mif\u001b[39;00m file \u001b[38;5;129;01min\u001b[39;00m {\u001b[38;5;241m0\u001b[39m, \u001b[38;5;241m1\u001b[39m, \u001b[38;5;241m2\u001b[39m}:\n\u001b[1;32m    304\u001b[0m     \u001b[38;5;28;01mraise\u001b[39;00m \u001b[38;5;167;01mValueError\u001b[39;00m(\n\u001b[1;32m    305\u001b[0m         \u001b[38;5;124mf\u001b[39m\u001b[38;5;124m\"\u001b[39m\u001b[38;5;124mIPython won\u001b[39m\u001b[38;5;124m'\u001b[39m\u001b[38;5;124mt let you open fd=\u001b[39m\u001b[38;5;132;01m{\u001b[39;00mfile\u001b[38;5;132;01m}\u001b[39;00m\u001b[38;5;124m by default \u001b[39m\u001b[38;5;124m\"\u001b[39m\n\u001b[1;32m    306\u001b[0m         \u001b[38;5;124m\"\u001b[39m\u001b[38;5;124mas it is likely to crash IPython. If you know what you are doing, \u001b[39m\u001b[38;5;124m\"\u001b[39m\n\u001b[1;32m    307\u001b[0m         \u001b[38;5;124m\"\u001b[39m\u001b[38;5;124myou can use builtins\u001b[39m\u001b[38;5;124m'\u001b[39m\u001b[38;5;124m open.\u001b[39m\u001b[38;5;124m\"\u001b[39m\n\u001b[1;32m    308\u001b[0m     )\n\u001b[0;32m--> 310\u001b[0m \u001b[38;5;28;01mreturn\u001b[39;00m \u001b[43mio_open\u001b[49m\u001b[43m(\u001b[49m\u001b[43mfile\u001b[49m\u001b[43m,\u001b[49m\u001b[43m \u001b[49m\u001b[38;5;241;43m*\u001b[39;49m\u001b[43margs\u001b[49m\u001b[43m,\u001b[49m\u001b[43m \u001b[49m\u001b[38;5;241;43m*\u001b[39;49m\u001b[38;5;241;43m*\u001b[39;49m\u001b[43mkwargs\u001b[49m\u001b[43m)\u001b[49m\n",
            "\u001b[0;31mFileNotFoundError\u001b[0m: [Errno 2] No such file or directory: '/content/RandomForestClassifier-20190502T1202.pkl'"
          ]
        }
      ],
      "source": [
        "import glob\n",
        "index = 0\n",
        "correct = []\n",
        "incorrect = []\n",
        "loaded_model = pickle.load(open(\"/content/RandomForestClassifier-20190502T1202.pkl\", \"rb\"))\n",
        "\n",
        "for file in glob.glob(\"drive/My Drive/amd-training/sample-files/*/*\"):\n",
        "  predict_from_file(file)\n",
        "  index = index+1\n",
        "  \n",
        "print(\"correct\",len(correct))\n",
        "print(\"incorrect\",len(incorrect))\n",
        "\n"
      ]
    },
    {
      "cell_type": "code",
      "execution_count": null,
      "metadata": {
        "colab": {
          "base_uri": "https://localhost:8080/",
          "height": 34
        },
        "colab_type": "code",
        "id": "AMGS6ZcLSewC",
        "outputId": "b91fa71e-bbb8-46ed-fb83-1bc1d1abfdf8"
      },
      "outputs": [],
      "source": []
    },
    {
      "cell_type": "code",
      "execution_count": null,
      "metadata": {
        "colab": {},
        "colab_type": "code",
        "id": "UCsGYV9hQa3F"
      },
      "outputs": [],
      "source": [
        "\n",
        "save_model(trained_classifiers[-2])"
      ]
    },
    {
      "cell_type": "code",
      "execution_count": null,
      "metadata": {
        "colab": {},
        "colab_type": "code",
        "id": "hv2p9msmRAPu"
      },
      "outputs": [],
      "source": []
    },
    {
      "cell_type": "code",
      "execution_count": null,
      "metadata": {
        "colab": {},
        "colab_type": "code",
        "id": "KhNz-Z7ObFAH"
      },
      "outputs": [],
      "source": []
    },
    {
      "cell_type": "markdown",
      "metadata": {
        "colab_type": "text",
        "id": "QaVwsMkn5EpH"
      },
      "source": [
        "## Audio Augmentation\n"
      ]
    },
    {
      "cell_type": "markdown",
      "metadata": {
        "colab_type": "text",
        "id": "zLD9lL6f2gEg"
      },
      "source": [
        "This section is to expirment on using audio augmentation on dataset\n",
        "augmentations are found here: https://www.kaggle.com/huseinzol05/sound-augmentation-librosa"
      ]
    },
    {
      "cell_type": "code",
      "execution_count": null,
      "metadata": {
        "colab": {},
        "colab_type": "code",
        "id": "rL-6bv9q7Gd3"
      },
      "outputs": [],
      "source": [
        "def change_speed(wav_file, low=0.1, high=1):\n",
        "  audio = wav_file.copy()\n",
        "  # you can change low and high here\n",
        "  length_change = np.random.uniform(low, high)\n",
        "  speed_fac = 1.0  / length_change\n",
        "  print(\"resample length_change = \",length_change)\n",
        "  tmp = np.interp(np.arange(0,len(audio),speed_fac),np.arange(0,len(audio)),audio)\n",
        "  minlen = min(audio.shape[0], tmp.shape[0])\n",
        "  audio *= 0\n",
        "  audio[0:minlen] = tmp[0:minlen]\n",
        "  return audio\n",
        "\n",
        "def change_pitch(wav_file, sample_rate):\n",
        "  y_pitch = wav_file.copy()\n",
        "  bins_per_octave = 12\n",
        "  pitch_pm = 2\n",
        "  pitch_change =  pitch_pm * 2*(np.random.uniform())   \n",
        "  print(\"pitch_change = \",pitch_change)\n",
        "  y_pitch = librosa.effects.pitch_shift(y_pitch.astype('float64'), \n",
        "                                      sample_rate, n_steps=pitch_change, \n",
        "                                      bins_per_octave=bins_per_octave)\n",
        "  return y_pitch\n",
        "\n",
        "def add_noise(wav_file, amt=0.005):\n",
        "  y_noise = wav_file.copy()\n",
        "  # you can take any distribution from https://docs.scipy.org/doc/numpy-1.13.0/reference/routines.random.html\n",
        "  noise_amp = amt*np.random.uniform()*np.amax(y_noise)\n",
        "  y_noise = y_noise.astype('float64') + noise_amp * np.random.normal(size=y_noise.shape[0])\n",
        "  return y_noise\n",
        "\n",
        "def stretch(wav_file, amt=1.1):\n",
        "  input_length = len(wav_file)\n",
        "  streching = wav_file.copy()\n",
        "  streching = librosa.effects.time_stretch(streching.astype('float'), amt)\n",
        "  if len(streching) > input_length:\n",
        "    streching = streching[:input_length]\n",
        "  else:\n",
        "    streching = np.pad(streching, (0, max(0, input_length - len(streching))), \"constant\")\n",
        "  return streching"
      ]
    },
    {
      "cell_type": "markdown",
      "metadata": {
        "colab_type": "text",
        "id": "wCf2x1W9oJrW"
      },
      "source": [
        "### Audio Sample tests"
      ]
    },
    {
      "cell_type": "code",
      "execution_count": null,
      "metadata": {
        "colab": {
          "base_uri": "https://localhost:8080/",
          "height": 75
        },
        "colab_type": "code",
        "id": "5ZWknW-870Dt",
        "outputId": "a2d3bb9b-3d11-4ce5-9289-fb64653e8a5d"
      },
      "outputs": [],
      "source": [
        "from IPython.display import Audio\n",
        "\n",
        "audio, sample_rate = librosa.load(\"/content/drive/My Drive/amd-training/sample-files/beeps/41d929b9-59d2-4634-bdea-7fd7f4f18b05.wav\")\n",
        "Audio(audio, rate=sample_rate)\n"
      ]
    },
    {
      "cell_type": "code",
      "execution_count": null,
      "metadata": {
        "colab": {
          "base_uri": "https://localhost:8080/",
          "height": 92
        },
        "colab_type": "code",
        "id": "ppfA1fq2-5gO",
        "outputId": "e265dbe3-2099-4d20-b83a-afcf4719c375"
      },
      "outputs": [],
      "source": [
        "Audio(change_speed(audio), rate=sample_rate)"
      ]
    },
    {
      "cell_type": "code",
      "execution_count": null,
      "metadata": {
        "colab": {
          "base_uri": "https://localhost:8080/",
          "height": 92
        },
        "colab_type": "code",
        "id": "zK0tKvRKAROz",
        "outputId": "b016713b-5acd-4dd6-c3cb-118744fabdfb"
      },
      "outputs": [],
      "source": [
        "Audio(change_pitch(audio), rate=sample_rate)"
      ]
    },
    {
      "cell_type": "code",
      "execution_count": null,
      "metadata": {
        "colab": {
          "base_uri": "https://localhost:8080/",
          "height": 75
        },
        "colab_type": "code",
        "id": "unVnxWYDAs8S",
        "outputId": "14a0165c-0353-4de5-9d3c-eec438dfa2dd"
      },
      "outputs": [],
      "source": [
        "Audio(stretch(audio, 0.5), rate=sample_rate)"
      ]
    },
    {
      "cell_type": "code",
      "execution_count": null,
      "metadata": {
        "colab": {
          "base_uri": "https://localhost:8080/",
          "height": 75
        },
        "colab_type": "code",
        "id": "AQS5ET1mBVqx",
        "outputId": "b4b886a5-b7c3-4c08-c3bc-81dab9b478fe"
      },
      "outputs": [],
      "source": [
        "Audio(add_noise(audio, 0.01), rate=sample_rate)"
      ]
    },
    {
      "cell_type": "markdown",
      "metadata": {
        "colab_type": "text",
        "id": "SRh9w5gkoPrG"
      },
      "source": [
        "### Train"
      ]
    },
    {
      "cell_type": "markdown",
      "metadata": {
        "colab_type": "text",
        "id": "gtA0NtoM2pvK"
      },
      "source": [
        "we'll take the audio samples from google drive, write to the local dir of this notebook, and add augmentation for all samples. We'll have 2 sample datasets, one thats augmented, and one that is the orginal"
      ]
    },
    {
      "cell_type": "code",
      "execution_count": null,
      "metadata": {
        "colab": {},
        "colab_type": "code",
        "id": "WUaUq5rEUP2i"
      },
      "outputs": [],
      "source": [
        "import shutil\n",
        "shutil.rmtree('output', ignore_errors=True)"
      ]
    },
    {
      "cell_type": "code",
      "execution_count": null,
      "metadata": {
        "colab": {},
        "colab_type": "code",
        "id": "MzAly7rdKHvH"
      },
      "outputs": [],
      "source": [
        "def process(file, label, augment=False):\n",
        "  try:\n",
        "    print(\"load file {}\".format(file))\n",
        "    # here kaiser_fast is a technique used for faster extraction\n",
        "    \n",
        "    X, sample_rate = librosa.load(file, res_type='kaiser_fast') \n",
        "    X = librosa.resample(X, sample_rate, 16000)\n",
        "    if augment:\n",
        "      X = change_speed(X)\n",
        "      X = change_pitch(X, sample_rate)\n",
        "      X = stretch(X, float(np.random.uniform(0.5, 1, 1)))\n",
        "      X = add_noise(X, float(np.random.uniform(0.1, 1, 1)))\n",
        "      \n",
        "    return X, 16000\n",
        "  \n",
        "  except Exception as e:\n",
        "    print(\"Error encountered while parsing file: \", e)\n",
        "    \n",
        "def download_files(path, label, augment=False, max=150):\n",
        "  index = 0\n",
        "  directory = \"output/\"+label\n",
        "  try:\n",
        "    if not os.path.exists(directory):\n",
        "      os.makedirs(directory)\n",
        "  except:\n",
        "    pass\n",
        "  \n",
        "  for file in glob.glob(path):\n",
        "    if index <=max:\n",
        "      audio, sample_rate = process(file, label, augment)\n",
        "      if augment:\n",
        "        file_name = \"_augmented_\"+file.split(\"/\")[-1]\n",
        "      else:\n",
        "        file_name = file.split(\"/\")[-1]\n",
        "\n",
        "      librosa.output.write_wav(directory+\"/\"+file_name, audio, sample_rate)"
      ]
    },
    {
      "cell_type": "code",
      "execution_count": null,
      "metadata": {
        "colab": {
          "base_uri": "https://localhost:8080/",
          "height": 16561
        },
        "colab_type": "code",
        "id": "dbyVmwkm5Hfm",
        "outputId": "0370519e-951c-4469-f33a-403e7000d1d6"
      },
      "outputs": [],
      "source": [
        "import glob, os\n",
        "import pandas as pd\n",
        "import numpy as np\n",
        "\n",
        "download_files(\"drive/My Drive/amd-training/answering-machine/*.wav\", label=\"beep\")\n",
        "download_files(\"drive/My Drive/amd-training/careangel-recordings/*.wav\", label=\"beep\")\n",
        "\n",
        "download_files(\"drive/My Drive/amd-training/answering-machine/*.wav\", label=\"beep\", augment=True)\n",
        "\n",
        "download_files(\"drive/My Drive/amd-training/speech-recordings/*.wav\", label=\"speech\")\n",
        "download_files(\"drive/My Drive/amd-training/answeringmachinemessages/*.mp3\", label=\"speech\")\n",
        "\n",
        "download_files(\"drive/My Drive/amd-training/speech-recordings/*.wav\", label=\"speech\",augment=True)\n"
      ]
    },
    {
      "cell_type": "markdown",
      "metadata": {
        "colab_type": "text",
        "id": "RPp8j7CGM7dc"
      },
      "source": [
        "### Verify sample augmentation"
      ]
    },
    {
      "cell_type": "code",
      "execution_count": null,
      "metadata": {
        "colab": {},
        "colab_type": "code",
        "id": "3K-jF0MV3KzF"
      },
      "outputs": [],
      "source": [
        "#grab a random sample to verify\n",
        "aug_file = \"output/beep/_augmented_07a3d677-0fdd-4155-a804-37679c039a8e.wav\"\n",
        "norm_file = \"output/beep/07a3d677-0fdd-4155-a804-37679c039a8e.wav\"\n"
      ]
    },
    {
      "cell_type": "code",
      "execution_count": null,
      "metadata": {
        "colab": {
          "base_uri": "https://localhost:8080/",
          "height": 75
        },
        "colab_type": "code",
        "id": "hnGIXaXg3dgD",
        "outputId": "381bb3a6-9454-4407-f498-80fd5717dffb"
      },
      "outputs": [],
      "source": [
        "audio, sample_rate = librosa.load(norm_file)\n",
        "Audio(audio, rate=sample_rate)"
      ]
    },
    {
      "cell_type": "code",
      "execution_count": null,
      "metadata": {
        "colab": {
          "base_uri": "https://localhost:8080/",
          "height": 75
        },
        "colab_type": "code",
        "id": "jsE7B0B33zme",
        "outputId": "c731d973-d6ce-4e0e-f991-b7ce802f116c"
      },
      "outputs": [],
      "source": [
        "audio, sample_rate = librosa.load(aug_file)\n",
        "Audio(audio, rate=sample_rate)"
      ]
    },
    {
      "cell_type": "markdown",
      "metadata": {
        "colab_type": "text",
        "id": "RT0y-LA0NBQ9"
      },
      "source": [
        "### Test"
      ]
    },
    {
      "cell_type": "code",
      "execution_count": null,
      "metadata": {
        "colab": {
          "base_uri": "https://localhost:8080/",
          "height": 7956
        },
        "colab_type": "code",
        "id": "AQ74QK4PLetd",
        "outputId": "8777c65e-7d2d-49ac-9400-fb58ad5fa638"
      },
      "outputs": [],
      "source": [
        "#build dataframe from files in \"output\" directory\n",
        "def process(file, label):\n",
        "  try:\n",
        "    print(\"load file {}\".format(file))\n",
        "    # here kaiser_fast is a technique used for faster extraction\n",
        "    \n",
        "    X, sample_rate = librosa.load(file, res_type='kaiser_fast') \n",
        "      \n",
        "    duration = librosa.get_duration(X, sample_rate)\n",
        "    stft = np.abs(librosa.stft(X))\n",
        "    mfccs_40 = np.mean(librosa.feature.mfcc(y=X, sr=sample_rate, n_mfcc=40).T,axis=0)\n",
        "    chroma = np.mean(librosa.feature.chroma_stft(S=stft, sr=sample_rate).T,axis=0)    \n",
        "    mel = np.mean(librosa.feature.melspectrogram(y=X, sr=sample_rate,n_mels=128,fmax=8000).T,axis=0)\n",
        "    contrast = np.mean(librosa.feature.spectral_contrast(S=stft, sr=sample_rate).T,axis=0)\n",
        "    tonnetz = np.mean(librosa.feature.tonnetz(y=librosa.effects.harmonic(X),\n",
        "    sr=sample_rate).T,axis=0)\n",
        "    is_augmented = \"_augmented_\" in file\n",
        "    row = pd.Series({'file_path':file,'mfccs_40':mfccs_40, 'chroma':chroma, 'mel':mel, 'contrast':contrast, 'tonnetz':tonnetz, 'duration':duration,'label':label, 'augmented': is_augmented},name=8)\n",
        "    return row\n",
        "  \n",
        "  except Exception as e:\n",
        "    print(\"Error encountered while parsing file: \", file)\n",
        "    \n",
        "    \n",
        "df = pd.DataFrame(columns=['file_path', 'mfccs_40', 'chroma', 'mel','contrast','tonnetz', 'duration','label', 'augmented'])\n",
        "df = df.fillna(0) # with 0s rather than NaNs\n",
        "\n",
        "for file in glob.glob(\"output/beep/*.wav\"):\n",
        "  row = process(file,\"beep\")\n",
        "  df.loc[len(df)] = row\n",
        "\n",
        "for file in glob.glob(\"output/speech/*.wav\"):\n",
        "  row = process(file,\"speech\")\n",
        "  df.loc[len(df)] = row\n",
        "\n",
        "\n",
        "      "
      ]
    },
    {
      "cell_type": "code",
      "execution_count": null,
      "metadata": {
        "colab": {
          "base_uri": "https://localhost:8080/",
          "height": 255
        },
        "colab_type": "code",
        "id": "MBsk45HjYH6L",
        "outputId": "13c64a57-ac48-4414-e1ad-ef2e1846e196"
      },
      "outputs": [],
      "source": [
        "df.info()"
      ]
    },
    {
      "cell_type": "code",
      "execution_count": null,
      "metadata": {
        "colab": {
          "base_uri": "https://localhost:8080/",
          "height": 85
        },
        "colab_type": "code",
        "id": "0rItLrcu5SLs",
        "outputId": "1cdee62f-6522-4a93-8187-ee7a5627ca42"
      },
      "outputs": [],
      "source": [
        "#convert label seriers to ints\n",
        "df = one_hot_encode(df)"
      ]
    },
    {
      "cell_type": "markdown",
      "metadata": {
        "colab_type": "text",
        "id": "Vaa4Ch-GpiiM"
      },
      "source": [
        "### Train using mfccs_40"
      ]
    },
    {
      "cell_type": "code",
      "execution_count": null,
      "metadata": {
        "colab": {
          "base_uri": "https://localhost:8080/",
          "height": 34
        },
        "colab_type": "code",
        "id": "51TgHvZte3R2",
        "outputId": "a0786547-0095-4205-c3c1-c92bef4649b9"
      },
      "outputs": [],
      "source": [
        "#working model\n",
        "from sklearn.ensemble import RandomForestClassifier\n",
        "from sklearn.naive_bayes import GaussianNB\n",
        "\n",
        "from sklearn.model_selection import train_test_split\n",
        "from sklearn.model_selection import cross_val_score\n",
        "from sklearn import metrics\n",
        "\n",
        "\n",
        "features = ['mfccs_40']\n",
        "X, y = generateFeaturesLabels(features)"
      ]
    },
    {
      "cell_type": "code",
      "execution_count": null,
      "metadata": {
        "colab": {
          "base_uri": "https://localhost:8080/",
          "height": 3131
        },
        "colab_type": "code",
        "id": "6A80m9C_e8se",
        "outputId": "04bfd16c-d32b-407c-9db4-bb053f0c3f21"
      },
      "outputs": [],
      "source": [
        "classifiers = train_classifiers(X, y)"
      ]
    },
    {
      "cell_type": "markdown",
      "metadata": {
        "colab_type": "text",
        "id": "FGOtVCzkp4mY"
      },
      "source": [
        "### Prediction using mfccs_40"
      ]
    },
    {
      "cell_type": "code",
      "execution_count": null,
      "metadata": {
        "colab": {
          "base_uri": "https://localhost:8080/",
          "height": 884
        },
        "colab_type": "code",
        "id": "LVtOR89lp80j",
        "outputId": "a13742ca-bbdd-49a3-b84a-ea2aa1952d33"
      },
      "outputs": [],
      "source": [
        "run_predictions_mfccs(classifiers)"
      ]
    },
    {
      "cell_type": "code",
      "execution_count": null,
      "metadata": {
        "colab": {},
        "colab_type": "code",
        "id": "J5xW5SUAfjgS"
      },
      "outputs": [],
      "source": [
        "save_model(classifiers[2])"
      ]
    },
    {
      "cell_type": "markdown",
      "metadata": {
        "colab_type": "text",
        "id": "9q8pAy8_sDY6"
      },
      "source": [
        "### Train using multiple features"
      ]
    },
    {
      "cell_type": "code",
      "execution_count": null,
      "metadata": {
        "colab": {
          "base_uri": "https://localhost:8080/",
          "height": 34
        },
        "colab_type": "code",
        "id": "YdTnWbGMsRnF",
        "outputId": "22984545-ea2c-4ffc-834e-bed374f567db"
      },
      "outputs": [],
      "source": [
        "features = ['mfccs_40','chroma', 'mel', 'contrast','tonnetz']\n",
        "X, y = generateFeaturesLabels(features, df)"
      ]
    },
    {
      "cell_type": "code",
      "execution_count": null,
      "metadata": {
        "colab": {
          "base_uri": "https://localhost:8080/",
          "height": 3335
        },
        "colab_type": "code",
        "id": "rTa7VQGVsYJQ",
        "outputId": "29922712-6f3c-4f1f-d614-9119cf80faea"
      },
      "outputs": [],
      "source": [
        "multi_feature_classifiers = train_classifiers(X, y)"
      ]
    },
    {
      "cell_type": "markdown",
      "metadata": {
        "colab_type": "text",
        "id": "XzYAeNJ9uazA"
      },
      "source": [
        "### Test using Mutliple Features"
      ]
    },
    {
      "cell_type": "code",
      "execution_count": null,
      "metadata": {
        "colab": {
          "base_uri": "https://localhost:8080/",
          "height": 884
        },
        "colab_type": "code",
        "id": "DIZ6aSBWufPy",
        "outputId": "ab9cc297-573c-4dc0-f1ca-017dd961f417"
      },
      "outputs": [],
      "source": [
        "run_multi_features_predictions(multi_feature_classifiers)"
      ]
    },
    {
      "cell_type": "code",
      "execution_count": null,
      "metadata": {
        "colab": {},
        "colab_type": "code",
        "id": "W-k_r569wPlS"
      },
      "outputs": [],
      "source": [
        "save_model(multi_feature_classifiers[0])"
      ]
    },
    {
      "cell_type": "markdown",
      "metadata": {
        "colab_type": "text",
        "id": "7d0XlOLtzsQi"
      },
      "source": [
        "### Tests with only using augmented files in training set"
      ]
    },
    {
      "cell_type": "code",
      "execution_count": null,
      "metadata": {
        "colab": {},
        "colab_type": "code",
        "id": "B3CBy1bPsqQj"
      },
      "outputs": [],
      "source": [
        "t = df[df['augmented'] == True];"
      ]
    },
    {
      "cell_type": "code",
      "execution_count": null,
      "metadata": {
        "colab": {},
        "colab_type": "code",
        "id": "nxVDu4_dZ20C"
      },
      "outputs": [],
      "source": [
        "#convert label seriers to ints\n",
        "from sklearn import preprocessing\n",
        "le = preprocessing.LabelEncoder()\n",
        "df['label'] = le.fit_transform(df['label'].astype(str))"
      ]
    },
    {
      "cell_type": "code",
      "execution_count": null,
      "metadata": {
        "colab": {
          "base_uri": "https://localhost:8080/",
          "height": 85
        },
        "colab_type": "code",
        "id": "XYm9CcqnezM9",
        "outputId": "18e7171d-2895-4153-95ae-caf3ec477dbf"
      },
      "outputs": [],
      "source": [
        "print(df.label.value_counts())\n",
        "le_name_mapping = dict(zip(le.classes_, le.transform(le.classes_)))\n",
        "print(le_name_mapping)\n",
        "class_names = le.classes_"
      ]
    },
    {
      "cell_type": "code",
      "execution_count": null,
      "metadata": {
        "colab": {},
        "colab_type": "code",
        "id": "m7TTe0_Vut3u"
      },
      "outputs": [],
      "source": [
        "\n",
        "augmented_sort = df.sort_values(by=['augmented'], ascending=False)\n",
        "augmented_sort[:len(t)]\n",
        "train = augmented_sort[:len(t)]\n",
        "test = augmented_sort[len(t):]"
      ]
    },
    {
      "cell_type": "code",
      "execution_count": null,
      "metadata": {
        "colab": {},
        "colab_type": "code",
        "id": "Xd8r11SkxewY"
      },
      "outputs": [],
      "source": [
        "X_train = list(train['mfccs_40'].values)\n",
        "y_train = train['label'].values\n",
        "\n",
        "X_test = list(test['mfccs_40'].values)\n",
        "y_test = test['label'].values\n",
        "\n",
        "# X_train.shape, y_train.shape, X_test.shape, y_test.shape"
      ]
    },
    {
      "cell_type": "code",
      "execution_count": null,
      "metadata": {
        "colab": {},
        "colab_type": "code",
        "id": "EaSpo72qyb-l"
      },
      "outputs": [],
      "source": [
        "# Code source: Gaël Varoquaux\n",
        "#              Andreas Müller\n",
        "# Modified for documentation by Jaques Grobler\n",
        "# License: BSD 3 clause\n",
        "\n",
        "import numpy as np\n",
        "import matplotlib.pyplot as plt\n",
        "from matplotlib.colors import ListedColormap\n",
        "from sklearn.model_selection import train_test_split\n",
        "from sklearn.preprocessing import StandardScaler\n",
        "from sklearn.datasets import make_moons, make_circles, make_classification\n",
        "from sklearn.neural_network import MLPClassifier\n",
        "from sklearn.neighbors import KNeighborsClassifier\n",
        "from sklearn.svm import SVC\n",
        "from sklearn.gaussian_process import GaussianProcessClassifier\n",
        "from sklearn.gaussian_process.kernels import RBF\n",
        "from sklearn.tree import DecisionTreeClassifier\n",
        "from sklearn.ensemble import RandomForestClassifier, AdaBoostClassifier\n",
        "from sklearn.naive_bayes import GaussianNB\n",
        "from sklearn.discriminant_analysis import QuadraticDiscriminantAnalysis\n",
        "\n",
        "trained_classifiers = []\n",
        "classifiers = [\n",
        "    KNeighborsClassifier(3),\n",
        "    SVC(kernel=\"linear\", C=0.025),\n",
        "    SVC(gamma=2, C=1),\n",
        "    GaussianProcessClassifier(1.0 * RBF(1.0)),\n",
        "    DecisionTreeClassifier(max_depth=5),\n",
        "    RandomForestClassifier(max_depth=10, n_estimators=10, max_features=1),\n",
        "    MLPClassifier(alpha=1),\n",
        "    AdaBoostClassifier(),\n",
        "    GaussianNB(),\n",
        "    QuadraticDiscriminantAnalysis()]\n",
        "\n",
        "names = [\"Nearest Neighbors\", \"Linear SVM\", \"RBF SVM\", \"Gaussian Process\",\n",
        "         \"Decision Tree\", \"Random Forest\", \"Neural Net\", \"AdaBoost\",\n",
        "         \"Naive Bayes\", \"QDA\"]\n",
        "i = 0\n",
        "for classifier in classifiers:\n",
        "  print(\"***\"+ names[i] + \"*****\")\n",
        "  \n",
        "  fit_model = classifier.fit(X_train, y_train)\n",
        "  trained_classifiers.append(fit_model)\n",
        "\n",
        "  print(\"Score:\",fit_model.score(X_test, y_test))\n",
        "\n",
        "  cross_val_scores = cross_val_score(fit_model, X, y, cv=5, scoring='f1_macro')\n",
        "  print(\"cross_val_scores:\", cross_val_scores)\n",
        "  print(\"Accuracy: %0.2f (+/- %0.2f)\" % (cross_val_scores.mean(), cross_val_scores.std() * 2))\n",
        "\n",
        "  predictions = fit_model.predict(X_test)\n",
        "\n",
        "  print(metrics.accuracy_score(y_test, predictions))\n",
        "  print(metrics.classification_report(y_test, predictions))\n",
        "  print(metrics.confusion_matrix(y_test, predictions))\n",
        "  print(\"\")\n",
        "  i = i + 1\n"
      ]
    }
  ],
  "metadata": {
    "accelerator": "GPU",
    "colab": {
      "collapsed_sections": [
        "69OA5Nw4K6lQ",
        "GxelWq612yjX",
        "wCf2x1W9oJrW",
        "Vaa4Ch-GpiiM",
        "7d0XlOLtzsQi"
      ],
      "name": "AMD-Testing.ipynb",
      "provenance": [],
      "toc_visible": true,
      "version": "0.3.2"
    },
    "kernelspec": {
      "display_name": "Python 3",
      "name": "python3"
    },
    "language_info": {
      "codemirror_mode": {
        "name": "ipython",
        "version": 3
      },
      "file_extension": ".py",
      "mimetype": "text/x-python",
      "name": "python",
      "nbconvert_exporter": "python",
      "pygments_lexer": "ipython3",
      "version": "3.9.6"
    }
  },
  "nbformat": 4,
  "nbformat_minor": 0
}
